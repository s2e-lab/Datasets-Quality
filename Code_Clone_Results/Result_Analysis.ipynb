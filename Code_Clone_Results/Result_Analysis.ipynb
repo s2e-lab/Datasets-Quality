{
 "cells": [
  {
   "cell_type": "code",
   "execution_count": 218,
   "metadata": {},
   "outputs": [],
   "source": [
    "import os\n",
    "from bs4 import BeautifulSoup\n",
    "\n",
    "import re\n",
    "\n",
    "from collections import defaultdict"
   ]
  },
  {
   "cell_type": "code",
   "execution_count": 219,
   "metadata": {},
   "outputs": [],
   "source": [
    "def extract_numbers_from_html(html_file):\n",
    "    with open(html_file, 'r', encoding='utf-8') as file:\n",
    "        soup = BeautifulSoup(file, 'html.parser')\n",
    "        # print(soup.prettify())\n",
    "\n",
    "        a_tags = soup.find_all('a')\n",
    "        file_names = []\n",
    "        for a_tag in a_tags:\n",
    "            file_names.append(a_tag.get_text(strip=True).split(':')[0])\n",
    "        # print(file_names)\n",
    "\n",
    "        \n",
    "        # Find all tags with td\n",
    "        td_tags = soup.find_all('td')\n",
    "        clone_pairs = 0\n",
    "        clone_classes = 0\n",
    "        for td_tag in td_tags:\n",
    "            if'Clone pairs' in td_tag.get_text(strip=True) :\n",
    "                clone_pairs = re.search(r'\\d+', td_tag.get_text(strip=True)).group()\n",
    "            if 'Clone classes' in td_tag.get_text(strip=True):\n",
    "                clone_classes = re.search(r'\\d+', td_tag.get_text(strip=True)).group()\n",
    "        return clone_pairs, clone_classes, '#'.join(file_names)\n"
   ]
  },
  {
   "cell_type": "code",
   "execution_count": 220,
   "metadata": {},
   "outputs": [],
   "source": [
    "def traverse_and_extract_numbers(root_folder):\n",
    "    numbers = []\n",
    "    for foldername, subfolders, filenames in os.walk(root_folder):\n",
    "        for filename in filenames:\n",
    "            if filename.endswith('.html'):\n",
    "                html_file_path = os.path.join(foldername, filename)\n",
    "                clone_pairs, clone_classes, file_names = extract_numbers_from_html(html_file_path)\n",
    "                numbers.append((html_file_path, clone_pairs, clone_classes, file_names))\n",
    "    return numbers\n",
    "\n"
   ]
  },
  {
   "cell_type": "code",
   "execution_count": 221,
   "metadata": {},
   "outputs": [],
   "source": [
    "folders = ['CodeGen_0.6','CodeGen_0.2','StarCoder_0.2','StarCoder_0.8', 'GPT-3.5_1.0']\n",
    "data = []\n",
    "\n",
    "for folder in folders:\n",
    "\n",
    "    root_folder = f'./Output/{folder}/'\n",
    "    result = traverse_and_extract_numbers(root_folder)\n",
    "    result.sort(key=lambda x: x[0])\n",
    "\n",
    "    model = root_folder.split('/')[2].split('_')[0]\n",
    "    temp = root_folder.split('/')[2].split('_')[1]\n",
    "    clone_type_counter = defaultdict(list)\n",
    "    for filename, clone_pairs, clone_classes,file_names in result:\n",
    "        id = filename.split('/')[3]\n",
    "        clone_type = filename.split('/')[4].split('.')[0]\n",
    "\n",
    "        # clone_pairs = int(clone_pairs)\n",
    "        # clone_classes = int(clone_classes)\n",
    "\n",
    "        # if clone_type == 'Type-2' and len(clone_type_counter[id]) ==1:\n",
    "        #     clone_pairs -= clone_type_counter[id][0]\n",
    "        # if clone_type == 'Type-3' and len(clone_type_counter[id]) ==1:\n",
    "        #     clone_pairs -= clone_type_counter[id][1]\n",
    "        # if clone_type == 'Type-3' and len(clone_type_counter[id]) ==2:\n",
    "        #     clone_pairs -= clone_type_counter[id][0]\n",
    "        #     clone_pairs -= clone_type_counter[id][1]\n",
    "\n",
    "        # if clone_pairs == 0:\n",
    "        #     clone_classes = 0\n",
    "        \n",
    "        clone_type_counter[id].append(int(clone_pairs))\n",
    "\n",
    "        have_clone_original_prompt = False\n",
    "        have_clone_modified_prompt = False\n",
    "        \n",
    "        if '_P' in file_names or '_all' in file_names:\n",
    "            have_clone_modified_prompt = True\n",
    "\n",
    "        count_p = file_names.count('_P') + file_names.count('_all')\n",
    "        if count_p != int(clone_pairs):\n",
    "            have_clone_original_prompt = True\n",
    "        data.append((model,temp, id, clone_type, clone_pairs, clone_classes,have_clone_original_prompt,have_clone_modified_prompt, file_names))\n"
   ]
  },
  {
   "cell_type": "code",
   "execution_count": 222,
   "metadata": {},
   "outputs": [],
   "source": [
    "import pandas as pd\n",
    "df = pd.DataFrame(data, columns=['model', 'temp','id', 'clone_type', 'clone_pairs', 'clone_classes','clone_original_prompt','clone_modified_prompt', 'file_names'])\n",
    "df.to_csv('result.csv', index=False)"
   ]
  }
 ],
 "metadata": {
  "kernelspec": {
   "display_name": "Python 3",
   "language": "python",
   "name": "python3"
  },
  "language_info": {
   "codemirror_mode": {
    "name": "ipython",
    "version": 3
   },
   "file_extension": ".py",
   "mimetype": "text/x-python",
   "name": "python",
   "nbconvert_exporter": "python",
   "pygments_lexer": "ipython3",
   "version": "3.9.4"
  }
 },
 "nbformat": 4,
 "nbformat_minor": 2
}
