{
 "cells": [
  {
   "cell_type": "code",
   "execution_count": 117,
   "metadata": {},
   "outputs": [],
   "source": [
    "import os\n",
    "from bs4 import BeautifulSoup\n",
    "\n",
    "import re"
   ]
  },
  {
   "cell_type": "code",
   "execution_count": 118,
   "metadata": {},
   "outputs": [],
   "source": [
    "def extract_numbers_from_html(html_file):\n",
    "    with open(html_file, 'r', encoding='utf-8') as file:\n",
    "        soup = BeautifulSoup(file, 'html.parser')\n",
    "        # print(soup.prettify())\n",
    "        \n",
    "        # Find all tags with td\n",
    "        td_tags = soup.find_all('td')\n",
    "        clone_pairs = 0\n",
    "        clone_classes = 0\n",
    "        for td_tag in td_tags:\n",
    "            if'Clone pairs' in td_tag.get_text(strip=True) :\n",
    "                clone_pairs = re.search(r'\\d+', td_tag.get_text(strip=True)).group()\n",
    "            if 'Clone classes' in td_tag.get_text(strip=True):\n",
    "                clone_classes = re.search(r'\\d+', td_tag.get_text(strip=True)).group()\n",
    "        return clone_pairs, clone_classes\n"
   ]
  },
  {
   "cell_type": "code",
   "execution_count": 119,
   "metadata": {},
   "outputs": [],
   "source": [
    "def traverse_and_extract_numbers(root_folder):\n",
    "    numbers = []\n",
    "    for foldername, subfolders, filenames in os.walk(root_folder):\n",
    "        for filename in filenames:\n",
    "            if filename.endswith('.html'):\n",
    "                html_file_path = os.path.join(foldername, filename)\n",
    "                clone_pairs, clone_classes = extract_numbers_from_html(html_file_path)\n",
    "                numbers.append((html_file_path, clone_pairs, clone_classes))\n",
    "    return numbers\n",
    "\n"
   ]
  },
  {
   "cell_type": "code",
   "execution_count": 120,
   "metadata": {},
   "outputs": [],
   "source": [
    "root_folder = './Output'\n",
    "result = traverse_and_extract_numbers(root_folder)\n",
    "\n",
    "data = []\n",
    "model = 'GPT-3.5'\n",
    "for filename, clone_pairs, clone_classes in result:\n",
    "    id = filename.split('/')[2]\n",
    "    clone_type = filename.split('/')[3].split('.')[0]\n",
    "\n",
    "    # print(f'{id},{clone_type},{clone_pairs},{clone_classes}')\n",
    "    data.append((model,id, clone_type, clone_pairs, clone_classes))\n"
   ]
  },
  {
   "cell_type": "code",
   "execution_count": null,
   "metadata": {},
   "outputs": [],
   "source": [
    "import pandas as pd\n",
    "df = pd.DataFrame(data, columns=['model', 'id', 'clone_type', 'clone_pairs', 'clone_classes'])\n",
    "df.to_csv('result.csv', index=False)"
   ]
  }
 ],
 "metadata": {
  "kernelspec": {
   "display_name": "Python 3",
   "language": "python",
   "name": "python3"
  },
  "language_info": {
   "codemirror_mode": {
    "name": "ipython",
    "version": 3
   },
   "file_extension": ".py",
   "mimetype": "text/x-python",
   "name": "python",
   "nbconvert_exporter": "python",
   "pygments_lexer": "ipython3",
   "version": "3.9.4"
  }
 },
 "nbformat": 4,
 "nbformat_minor": 2
}
