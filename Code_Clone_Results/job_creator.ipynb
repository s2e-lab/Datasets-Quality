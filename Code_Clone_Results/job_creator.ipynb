{
 "cells": [
  {
   "cell_type": "code",
   "execution_count": 21,
   "metadata": {},
   "outputs": [],
   "source": [
    "import pandas as pd\n",
    "\n",
    "import os\n",
    "import time"
   ]
  },
  {
   "cell_type": "code",
   "execution_count": 22,
   "metadata": {},
   "outputs": [],
   "source": [
    "minsize = 5\n",
    "threshold = 0.3\n",
    "rename = 'blind'\n",
    "id = ''"
   ]
  },
  {
   "cell_type": "code",
   "execution_count": 23,
   "metadata": {},
   "outputs": [
    {
     "data": {
      "text/html": [
       "<div>\n",
       "<style scoped>\n",
       "    .dataframe tbody tr th:only-of-type {\n",
       "        vertical-align: middle;\n",
       "    }\n",
       "\n",
       "    .dataframe tbody tr th {\n",
       "        vertical-align: top;\n",
       "    }\n",
       "\n",
       "    .dataframe thead th {\n",
       "        text-align: right;\n",
       "    }\n",
       "</style>\n",
       "<table border=\"1\" class=\"dataframe\">\n",
       "  <thead>\n",
       "    <tr style=\"text-align: right;\">\n",
       "      <th></th>\n",
       "      <th>id</th>\n",
       "      <th>prompt</th>\n",
       "      <th>canonical</th>\n",
       "      <th>total</th>\n",
       "      <th>without_comments</th>\n",
       "      <th>threshold</th>\n",
       "    </tr>\n",
       "  </thead>\n",
       "  <tbody>\n",
       "    <tr>\n",
       "      <th>0</th>\n",
       "      <td>0</td>\n",
       "      <td>12</td>\n",
       "      <td>9</td>\n",
       "      <td>21</td>\n",
       "      <td>10</td>\n",
       "      <td>4</td>\n",
       "    </tr>\n",
       "    <tr>\n",
       "      <th>1</th>\n",
       "      <td>1</td>\n",
       "      <td>12</td>\n",
       "      <td>18</td>\n",
       "      <td>30</td>\n",
       "      <td>17</td>\n",
       "      <td>9</td>\n",
       "    </tr>\n",
       "    <tr>\n",
       "      <th>2</th>\n",
       "      <td>2</td>\n",
       "      <td>12</td>\n",
       "      <td>2</td>\n",
       "      <td>14</td>\n",
       "      <td>3</td>\n",
       "      <td>1</td>\n",
       "    </tr>\n",
       "    <tr>\n",
       "      <th>3</th>\n",
       "      <td>3</td>\n",
       "      <td>13</td>\n",
       "      <td>9</td>\n",
       "      <td>22</td>\n",
       "      <td>9</td>\n",
       "      <td>4</td>\n",
       "    </tr>\n",
       "    <tr>\n",
       "      <th>4</th>\n",
       "      <td>4</td>\n",
       "      <td>13</td>\n",
       "      <td>3</td>\n",
       "      <td>16</td>\n",
       "      <td>5</td>\n",
       "      <td>1</td>\n",
       "    </tr>\n",
       "  </tbody>\n",
       "</table>\n",
       "</div>"
      ],
      "text/plain": [
       "   id  prompt  canonical  total  without_comments  threshold\n",
       "0   0      12          9     21                10          4\n",
       "1   1      12         18     30                17          9\n",
       "2   2      12          2     14                 3          1\n",
       "3   3      13          9     22                 9          4\n",
       "4   4      13          3     16                 5          1"
      ]
     },
     "execution_count": 23,
     "metadata": {},
     "output_type": "execute_result"
    }
   ],
   "source": [
    "df = pd.read_csv('HumanEval_Line_Count.csv')\n",
    "df.head()"
   ]
  },
  {
   "cell_type": "code",
   "execution_count": 24,
   "metadata": {},
   "outputs": [
    {
     "name": "stdout",
     "output_type": "stream",
     "text": [
      "Starting job for id 0\n"
     ]
    }
   ],
   "source": [
    "for index, row in df.iterrows():\n",
    "    print('Starting job for id ' + str(row['id']))\n",
    "    id = row['id']\n",
    "    minsize = max(5, row['threshold'])\n",
    "    if os.path.exists(\"./Output/\" + str(id)):    \n",
    "        os.system(\"rm -r ./Output/\" + str(id))\n",
    "    os.mkdir('./Output/' + str(id))\n",
    "\n",
    "    for clone_type in ['Type-2', 'Type-2', 'Type-3']:\n",
    "        with open('./placeholder-report.cfg') as f:\n",
    "            data = f.read() \n",
    "\n",
    "        if clone_type == 'Type-3':\n",
    "            data = data.replace('<threshold>', str(0.3))\n",
    "        else:\n",
    "            data = data.replace('<threshold>', str(0.0))\n",
    "        data = data.replace('<minsize>', str(minsize))\n",
    "        if clone_type != 'Type-1':\n",
    "            data = data.replace('<rename>', 'blind')\n",
    "        else:\n",
    "            data = data.replace('<rename>', 'none')\n",
    "        data = data.replace('<id>', str(id))\n",
    "        with open('./config/test-report.cfg', 'w') as f:\n",
    "            f.write(data)\n",
    "\n",
    "\n",
    "\n",
    "        print('Running NiCad')\n",
    "        os.system(\"sh nicad6cross functions py ./systems/Original_Files/ ./systems/Files/ test-report\")\n",
    "\n",
    "        \n",
    "        if clone_type == 'Type-3':\n",
    "            if os.path.exists(\"./systems/Original_Files_functions-blind-crossclones/\"):\n",
    "                os.system(\"mv ./systems/Original_Files_functions-blind-crossclones/Original_Files_functions-blind-crossclones-0.30-classes-withsource.html ./Output/\" + str(id) + f\"/{clone_type}.html\")\n",
    "        elif clone_type == 'Type-1':\n",
    "            if os.path.exists(\"./systems/Original_Files_functions-crossclones/\"):\n",
    "                os.system(\"mv ./systems/Original_Files_functions-crossclones/Original_Files_functions-crossclones-0.00-classes-withsource.html ./Output/\" + str(id) + f\"/{clone_type}.html\")\n",
    "\n",
    "        elif clone_type == 'Type-2':\n",
    "            if os.path.exists(\"./systems/Original_Files_functions-blind-crossclones/\"):\n",
    "                os.system(\"mv ./systems/Original_Files_functions-blind-crossclones/Original_Files_functions-blind-crossclones-0.00-classes-withsource.html ./Output/\" + str(id) + f\"/{clone_type}.html\")\n",
    "\n",
    "        os.system(\"echo 'y' |sh cleanall\")\n",
    "        print('Finished job for id ' + str(id))\n",
    "        print('-----------------------------------')\n",
    "    break"
   ]
  },
  {
   "cell_type": "code",
   "execution_count": null,
   "metadata": {},
   "outputs": [],
   "source": []
  }
 ],
 "metadata": {
  "kernelspec": {
   "display_name": "Python 3",
   "language": "python",
   "name": "python3"
  },
  "language_info": {
   "codemirror_mode": {
    "name": "ipython",
    "version": 3
   },
   "file_extension": ".py",
   "mimetype": "text/x-python",
   "name": "python",
   "nbconvert_exporter": "python",
   "pygments_lexer": "ipython3",
   "version": "3.9.4"
  }
 },
 "nbformat": 4,
 "nbformat_minor": 2
}
