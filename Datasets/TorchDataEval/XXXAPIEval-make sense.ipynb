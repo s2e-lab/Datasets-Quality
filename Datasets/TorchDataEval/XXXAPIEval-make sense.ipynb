{
 "cells": [
  {
   "cell_type": "code",
   "execution_count": 3,
   "metadata": {},
   "outputs": [
    {
     "name": "stderr",
     "output_type": "stream",
     "text": [
      "50it [00:00, 16642.74it/s]0/7 [00:00<?, ?it/s]\n",
      "50it [00:00, 14979.66it/s]1/7 [00:01<00:06,  1.04s/it]\n",
      "50it [00:00, 14360.12it/s]2/7 [00:02<00:04,  1.00it/s]\n",
      "50it [00:00, 13214.57it/s]3/7 [00:02<00:03,  1.04it/s]\n",
      "50it [00:00, 11823.60it/s]4/7 [00:03<00:02,  1.46it/s]\n",
      "50it [00:00, 14344.40it/s]5/7 [00:03<00:01,  1.95it/s]\n",
      "50it [00:00, 15246.47it/s]6/7 [00:03<00:00,  2.38it/s]\n",
      "api_num: 100%|██████████| 7/7 [00:03<00:00,  1.81it/s]\n"
     ]
    }
   ],
   "source": [
    "import json\n",
    "import gzip\n",
    "import os\n",
    "from tqdm import tqdm\n",
    "\n",
    "base_dir = \"PrivateLibrary/private-eval/data\"\n",
    "\n",
    "api_nums = [\"0\", \"1\", \"2\", \"3\", \"5\", \"n\", \"human_labelled\"]\n",
    "for api_num in tqdm(api_nums, desc=\"api_num\"):\n",
    "    if api_num == \"0\":\n",
    "        raw_monkey_api_eval_path = os.path.join(base_dir, f\"real_torchdata_eval_v3.jsonl.gz\")\n",
    "        output_monkey_api_eval_path = os.path.join(base_dir, f\"real_torchdata_eval_v3_make_sense.jsonl.gz\")\n",
    "    elif api_num == \"human_labelled\":\n",
    "        raw_monkey_api_eval_path = os.path.join(base_dir, f\"real_torchdata_eval_v3_{api_num}.jsonl.gz\")\n",
    "        output_monkey_api_eval_path = os.path.join(base_dir, f\"real_torchdata_eval_v3_{api_num}_make_sense.jsonl.gz\")\n",
    "    else:\n",
    "        raw_monkey_api_eval_path = os.path.join(base_dir, f\"real_torchdata_eval_v3_api_{api_num}.jsonl.gz\")\n",
    "        output_monkey_api_eval_path = os.path.join(base_dir, f\"real_torchdata_eval_v3_api_{api_num}_make_sense.jsonl.gz\")\n",
    "\n",
    "    raw_monkey_reader = gzip.open(raw_monkey_api_eval_path, \"rb\")\n",
    "    output_writer = gzip.open(output_monkey_api_eval_path, \"wb\")\n",
    "\n",
    "    for line in tqdm(raw_monkey_reader):\n",
    "        line_decoded = line.decode(\"utf-8\")\n",
    "        line_dict = json.loads(line_decoded)\n",
    "        # print(line_dict.keys())\n",
    "        task_id = line_dict[\"task_id\"]\n",
    "        prompt = line_dict[\"prompt\"]\n",
    "        prompt = prompt.replace(\"[start]\", \"Please use the following APIs to solve the task:\")\n",
    "        prompt = prompt.replace(\"# [end]\\n\", \"\")\n",
    "        line_dict[\"prompt\"] = prompt\n",
    "\n",
    "        output_writer.write(json.dumps(line_dict).encode(\"utf-8\") + \"\\n\".encode(\"utf-8\"))\n",
    "\n",
    "    raw_monkey_reader.close()\n",
    "    output_writer.close()\n"
   ]
  },
  {
   "cell_type": "code",
   "execution_count": null,
   "metadata": {},
   "outputs": [],
   "source": []
  }
 ],
 "metadata": {
  "interpreter": {
   "hash": "6b7426018b15da7c09748c02bfa198e6352f15be2a8ba8d90a42df1562657c8c"
  },
  "kernelspec": {
   "display_name": "Python 3.8.12 ('codex')",
   "language": "python",
   "name": "python3"
  },
  "language_info": {
   "codemirror_mode": {
    "name": "ipython",
    "version": 3
   },
   "file_extension": ".py",
   "mimetype": "text/x-python",
   "name": "python",
   "nbconvert_exporter": "python",
   "pygments_lexer": "ipython3",
   "version": "3.8.12"
  },
  "orig_nbformat": 4
 },
 "nbformat": 4,
 "nbformat_minor": 2
}
