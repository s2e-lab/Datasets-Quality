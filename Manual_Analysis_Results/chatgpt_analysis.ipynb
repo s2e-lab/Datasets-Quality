{
 "cells": [
  {
   "cell_type": "code",
   "execution_count": 2,
   "metadata": {},
   "outputs": [],
   "source": [
    "import json\n",
    "from collections import defaultdict\n"
   ]
  },
  {
   "cell_type": "code",
   "execution_count": 3,
   "metadata": {},
   "outputs": [
    {
     "data": {
      "text/plain": [
       "(1113, 15)"
      ]
     },
     "execution_count": 3,
     "metadata": {},
     "output_type": "execute_result"
    }
   ],
   "source": [
    "with open(\"datasets_study.json\", \"r\") as f:\n",
    "    data = json.load(f) \n",
    "\n",
    "analysis_data = []\n",
    "concept_data = defaultdict(str)  \n",
    "\n",
    "dataset_name = defaultdict(list)\n",
    "for item in data:\n",
    "    if item['model']=='datasets_study.chatgpturlanalysis':\n",
    "        analysis_data.append(item)\n",
    "\n",
    "    if item['model']=='datasets_study.concept':\n",
    "        concept_data[item['pk']] = item['fields']['name']\n",
    "\n",
    "len(analysis_data), len(concept_data)"
   ]
  },
  {
   "cell_type": "code",
   "execution_count": 4,
   "metadata": {},
   "outputs": [
    {
     "data": {
      "text/plain": [
       "(371, 371, 371)"
      ]
     },
     "execution_count": 4,
     "metadata": {},
     "output_type": "execute_result"
    }
   ],
   "source": [
    "concept_3 = defaultdict(list)\n",
    "concept_4 = defaultdict(list)\n",
    "merged_data = defaultdict(list)\n",
    "\n",
    "for item in analysis_data:\n",
    "    if item['fields']['user_id'] == 3:\n",
    "        concept_3[item['fields']['sharing_link']] = item['fields']['concepts']\n",
    "    elif item['fields']['user_id'] == 4:\n",
    "        concept_4[item['fields']['sharing_link']] = item['fields']['concepts']\n",
    "    else:\n",
    "        merged_data[item['fields']['sharing_link']] = item['fields']['concepts']\n",
    "\n",
    "len(concept_3), len(concept_4) , len(merged_data)\n"
   ]
  },
  {
   "cell_type": "code",
   "execution_count": 5,
   "metadata": {},
   "outputs": [
    {
     "name": "stdout",
     "output_type": "stream",
     "text": [
      "247\n"
     ]
    }
   ],
   "source": [
    "mismatched = []\n",
    "users_3 = []\n",
    "users_4 = []\n",
    "for key in concept_3.keys():\n",
    "    if concept_3[key] != concept_4[key]:\n",
    "        mismatched.append(key)\n",
    "    users_3.append('#'.join(sorted([str(x) for x in concept_3[key]])))\n",
    "    users_4.append('#'.join(sorted([str(x) for x in concept_4[key]])))\n",
    "\n",
    "print(len(mismatched))"
   ]
  },
  {
   "cell_type": "code",
   "execution_count": 6,
   "metadata": {},
   "outputs": [
    {
     "data": {
      "text/plain": [
       "0.22818351034709305"
      ]
     },
     "execution_count": 6,
     "metadata": {},
     "output_type": "execute_result"
    }
   ],
   "source": [
    "from sklearn.metrics import cohen_kappa_score\n",
    "cohen_kappa_score(users_3, users_4)"
   ]
  },
  {
   "cell_type": "code",
   "execution_count": 7,
   "metadata": {},
   "outputs": [],
   "source": [
    "problem_ids_map = defaultdict(list)\n",
    "\n",
    "for key in merged_data.keys():\n",
    "    concepts = merged_data[key]\n",
    "    for concept in concepts:\n",
    "        if concept == 12 or concept ==10 or concept == 5 or concept == 14:\n",
    "            concept = 16\n",
    "        problem_ids_map[concept].append(key)\n",
    "\n"
   ]
  },
  {
   "cell_type": "code",
   "execution_count": 8,
   "metadata": {},
   "outputs": [
    {
     "name": "stdout",
     "output_type": "stream",
     "text": [
      "16 No Issue 173\n",
      "3 URL Link or reference 15\n",
      "4 Not using standard javadoc/docstring 43\n",
      "2 Prompt description not clear. 57\n",
      "13 Question not Code 53\n",
      "7 Spelling/Grammatical Error 53\n",
      "9 Messy code snippet 14\n",
      "6 Lack of enough context 51\n",
      "15 Very Short Sentence 3\n",
      "8 Self Admitted Technical Debt (SATD) 6\n",
      "11 URL Link or reference 6\n"
     ]
    }
   ],
   "source": [
    "for key in problem_ids_map.keys():\n",
    "    print(key, concept_data[key], len(problem_ids_map[key]))"
   ]
  },
  {
   "cell_type": "code",
   "execution_count": null,
   "metadata": {},
   "outputs": [],
   "source": []
  }
 ],
 "metadata": {
  "kernelspec": {
   "display_name": "Python 3",
   "language": "python",
   "name": "python3"
  },
  "language_info": {
   "codemirror_mode": {
    "name": "ipython",
    "version": 3
   },
   "file_extension": ".py",
   "mimetype": "text/x-python",
   "name": "python",
   "nbconvert_exporter": "python",
   "pygments_lexer": "ipython3",
   "version": "3.9.4"
  },
  "orig_nbformat": 4
 },
 "nbformat": 4,
 "nbformat_minor": 2
}
