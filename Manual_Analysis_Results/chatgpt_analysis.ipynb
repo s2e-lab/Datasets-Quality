{
 "cells": [
  {
   "cell_type": "code",
   "execution_count": 30,
   "metadata": {},
   "outputs": [],
   "source": [
    "import json\n",
    "from collections import defaultdict\n"
   ]
  },
  {
   "cell_type": "code",
   "execution_count": 31,
   "metadata": {},
   "outputs": [
    {
     "data": {
      "text/plain": [
       "(1113, 14)"
      ]
     },
     "execution_count": 31,
     "metadata": {},
     "output_type": "execute_result"
    }
   ],
   "source": [
    "with open(\"datasets_study.json\", \"r\") as f:\n",
    "    data = json.load(f) \n",
    "\n",
    "analysis_data = []\n",
    "concept_data = []    \n",
    "\n",
    "dataset_name = defaultdict(list)\n",
    "for item in data:\n",
    "    if item['model']=='datasets_study.chatgpturlanalysis':\n",
    "        analysis_data.append(item)\n",
    "\n",
    "    if item['model']=='datasets_study.concept':\n",
    "        concept_data.append(item)\n",
    "\n",
    "len(analysis_data), len(concept_data)"
   ]
  },
  {
   "cell_type": "code",
   "execution_count": 32,
   "metadata": {},
   "outputs": [
    {
     "data": {
      "text/plain": [
       "(371, 371)"
      ]
     },
     "execution_count": 32,
     "metadata": {},
     "output_type": "execute_result"
    }
   ],
   "source": [
    "concept_3 = defaultdict(list)\n",
    "concept_4 = defaultdict(list)\n",
    "\n",
    "for item in analysis_data:\n",
    "    if item['fields']['user_id'] == 3:\n",
    "        concept_3[item['fields']['sharing_link']] = item['fields']['concepts']\n",
    "    else:\n",
    "        concept_4[item['fields']['sharing_link']] = item['fields']['concepts']\n",
    "\n",
    "len(concept_3), len(concept_4)\n"
   ]
  },
  {
   "cell_type": "code",
   "execution_count": 33,
   "metadata": {},
   "outputs": [
    {
     "name": "stdout",
     "output_type": "stream",
     "text": [
      "[1, 2, 5, 6, 7, 8, 11, 18, 19, 23, 24, 28, 29, 30, 35, 37, 45, 49, 50, 55, 59, 60, 61, 62, 66, 67, 68, 69, 70, 72, 77, 79, 83, 86, 88, 94, 97, 99, 101, 109, 113, 116, 117, 118, 119, 120, 122, 124, 125, 126, 131, 132, 133, 134, 135, 137, 138, 140, 141, 146, 150, 152, 156, 158, 159, 160, 161, 168, 171, 172, 178, 180, 182, 183, 189, 190, 191, 195, 197, 199, 206, 208, 209, 210, 212, 213, 214, 215, 221, 227, 229, 230, 233, 235, 241, 244, 248, 249, 251, 252, 253, 254, 258, 259, 261, 265, 266, 267, 270, 277, 279, 281, 282, 283, 284, 285, 291, 294, 296, 297, 302, 304, 305, 306, 314, 316, 317, 320, 322, 324, 328, 331, 342, 351, 356, 357, 362, 367]\n"
     ]
    }
   ],
   "source": [
    "mismatched = []\n",
    "users_3 = []\n",
    "users_4 = []\n",
    "for key in concept_3.keys():\n",
    "    if concept_3[key] != concept_4[key]:\n",
    "        mismatched.append(key)\n",
    "    users_3.append('#'.join([str(x) for x in concept_3[key]]))\n",
    "    users_4.append('#'.join([str(x) for x in concept_4[key]]))\n",
    "\n",
    "print(mismatched)"
   ]
  },
  {
   "cell_type": "code",
   "execution_count": 36,
   "metadata": {},
   "outputs": [
    {
     "data": {
      "text/plain": [
       "0.59247643912379"
      ]
     },
     "execution_count": 36,
     "metadata": {},
     "output_type": "execute_result"
    }
   ],
   "source": [
    "from sklearn.metrics import cohen_kappa_score\n",
    "cohen_kappa_score(users_3, users_4)"
   ]
  },
  {
   "cell_type": "code",
   "execution_count": null,
   "metadata": {},
   "outputs": [],
   "source": []
  }
 ],
 "metadata": {
  "kernelspec": {
   "display_name": "Python 3",
   "language": "python",
   "name": "python3"
  },
  "language_info": {
   "codemirror_mode": {
    "name": "ipython",
    "version": 3
   },
   "file_extension": ".py",
   "mimetype": "text/x-python",
   "name": "python",
   "nbconvert_exporter": "python",
   "pygments_lexer": "ipython3",
   "version": "3.9.4"
  },
  "orig_nbformat": 4
 },
 "nbformat": 4,
 "nbformat_minor": 2
}
