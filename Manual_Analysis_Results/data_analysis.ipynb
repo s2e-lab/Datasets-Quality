{
 "cells": [
  {
   "cell_type": "code",
   "execution_count": 29,
   "metadata": {},
   "outputs": [],
   "source": [
    "import json"
   ]
  },
  {
   "cell_type": "code",
   "execution_count": 30,
   "metadata": {},
   "outputs": [
    {
     "data": {
      "text/plain": [
       "10784"
      ]
     },
     "execution_count": 30,
     "metadata": {},
     "output_type": "execute_result"
    }
   ],
   "source": [
    "with open(\"datasets_study.json\", \"r\") as f:\n",
    "    data = json.load(f) \n",
    "\n",
    "analysis_data = []\n",
    "\n",
    "for item in data:\n",
    "    if item['model']=='datasets_study.analysis':\n",
    "        analysis_data.append(item)\n",
    "    \n",
    "\n",
    "len(analysis_data)"
   ]
  },
  {
   "cell_type": "code",
   "execution_count": 31,
   "metadata": {},
   "outputs": [
    {
     "name": "stdout",
     "output_type": "stream",
     "text": [
      "{1: 'Spelling and grammatical errors', 2: 'Very short sentence.', 3: 'Partial or incomplete sentence.', 4: 'Self-Admitted Technical Debt (ex: TODO / FIXME / hack / XXX, etc)', 5: 'Automatically generated code/comments (ex:: // TODO auto-generated method stub).', 6: \"Method name mismatches with the function/method's intent.\", 7: 'Not using standard JavaDoc (Java) or docstring (Python)', 8: 'If one sample contains an example of I/O, are all the samples containing the same number of examples\\r\\nDifferent JavaDoc/Docstring style.\\r\\nGiving type hint in some samples in Python, not for all.', 9: 'URL or reference in the comment.', 12: 'Check whether the question mark is indeed asking a question about what the function does instead of being just part of the description of the code.', 13: 'Check the JavaDoc quality.', 14: 'Comment includes PII(author name, email address, etc.)', 15: 'The prompt description is unclear.', 16: 'Incorrect input/output pair example.'}\n"
     ]
    }
   ],
   "source": [
    "problem_list = {}\n",
    "for item in data:\n",
    "    if item['model']=='datasets_study.problem':\n",
    "       problem_list[item['pk']] = item['fields']['description']\n",
    "print(problem_list)"
   ]
  },
  {
   "cell_type": "code",
   "execution_count": 32,
   "metadata": {},
   "outputs": [
    {
     "name": "stdout",
     "output_type": "stream",
     "text": [
      "dict_keys([4])\n",
      "3395\n",
      "10\n"
     ]
    }
   ],
   "source": [
    "from collections import defaultdict\n",
    "users = defaultdict(list)\n",
    "analysis = defaultdict(list)\n",
    "problems = defaultdict(int)\n",
    "\n",
    "\n",
    "for item in analysis_data:\n",
    "    if item['fields']['user_id'] != 4:\n",
    "        continue\n",
    "    \n",
    "    users[item['fields']['user_id']].append(item['fields']['prompt'])\n",
    "    analysis[item['fields']['prompt']].append(item['fields'])\n",
    "    for problem in item['fields']['problems']:\n",
    "        problems[problem] += 1\n",
    "print(users.keys())\n",
    "print(len(analysis))\n",
    "print(len(problems))    "
   ]
  },
  {
   "cell_type": "code",
   "execution_count": 33,
   "metadata": {},
   "outputs": [
    {
     "name": "stdout",
     "output_type": "stream",
     "text": [
      "[(1, 337), (3, 122), (6, 1323), (7, 439), (8, 302), (9, 18), (12, 145), (13, 1007), (15, 83), (16, 37)]\n"
     ]
    }
   ],
   "source": [
    "problems = sorted(problems.items(), key=lambda x: x[0])\n",
    "print(problems)"
   ]
  },
  {
   "cell_type": "code",
   "execution_count": 34,
   "metadata": {},
   "outputs": [
    {
     "name": "stdout",
     "output_type": "stream",
     "text": [
      "1. Spelling and grammatical errors: 337\n",
      "3. Partial or incomplete sentence.: 122\n",
      "6. Method name mismatches with the function/method's intent.: 1323\n",
      "7. Not using standard JavaDoc (Java) or docstring (Python): 439\n",
      "8. If one sample contains an example of I/O, are all the samples containing the same number of examples\n",
      "Different JavaDoc/Docstring style.\n",
      "Giving type hint in some samples in Python, not for all.: 302\n",
      "9. URL or reference in the comment.: 18\n",
      "12. Check whether the question mark is indeed asking a question about what the function does instead of being just part of the description of the code.: 145\n",
      "13. Check the JavaDoc quality.: 1007\n",
      "15. The prompt description is unclear.: 83\n",
      "16. Incorrect input/output pair example.: 37\n"
     ]
    }
   ],
   "source": [
    "for item in problems:\n",
    "    key = item[0]\n",
    "    total = item[1]\n",
    "    print(f\"{key}. {problem_list[key]}: {total}\")\n"
   ]
  },
  {
   "cell_type": "code",
   "execution_count": null,
   "metadata": {},
   "outputs": [],
   "source": []
  }
 ],
 "metadata": {
  "kernelspec": {
   "display_name": "Python 3",
   "language": "python",
   "name": "python3"
  },
  "language_info": {
   "codemirror_mode": {
    "name": "ipython",
    "version": 3
   },
   "file_extension": ".py",
   "mimetype": "text/x-python",
   "name": "python",
   "nbconvert_exporter": "python",
   "pygments_lexer": "ipython3",
   "version": "3.9.4"
  },
  "orig_nbformat": 4
 },
 "nbformat": 4,
 "nbformat_minor": 2
}
