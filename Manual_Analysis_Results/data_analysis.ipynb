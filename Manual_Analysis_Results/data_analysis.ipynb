{
 "cells": [
  {
   "cell_type": "code",
   "execution_count": null,
   "metadata": {},
   "outputs": [],
   "source": [
    "import json\n",
    "from collections import defaultdict\n"
   ]
  },
  {
   "cell_type": "code",
   "execution_count": null,
   "metadata": {},
   "outputs": [],
   "source": [
    "with open(\"datasets_study_coderevaljava.json\", \"r\") as f:\n",
    "    data = json.load(f) \n",
    "\n",
    "analysis_data = []\n",
    "prompt_data = []    \n",
    "\n",
    "dataset_name = defaultdict(list)\n",
    "for item in data:\n",
    "    if item['model']=='datasets_study.analysis':\n",
    "        analysis_data.append(item)\n",
    "    elif item['model']=='datasets_study.prompt':\n",
    "        prompt_data.append(item)\n",
    "        dataset_name[item['fields']['source_dataset']].append(item['pk'])\n",
    "\n",
    "\n",
    "\n",
    "\n",
    "len(analysis_data),len(prompt_data)\n",
    "print(len(dataset_name.keys()))"
   ]
  },
  {
   "cell_type": "code",
   "execution_count": 29,
   "metadata": {},
   "outputs": [
    {
     "name": "stdout",
     "output_type": "stream",
     "text": [
      "HumanEval/human-eval-v2-20210705 132\n",
      "mbxp/mbpp_release_v1 396\n",
      "mbxp/mbjp_release_v1 395\n",
      "mbxp_humaneval/HumanEval 132\n",
      "mbxp_humaneval/HumanEval_java_v1 130\n",
      "mbxp_mathqa/mathqa-test-python_v1 492\n",
      "mbxp_mathqa/mathqa-test-java_v1 492\n",
      "pandasNumpyEval/offical_numpy 88\n",
      "pandasNumpyEval/offical_pandas 88\n",
      "TorchDataEval/real_beatnum_eval_v3_human_labelled 88\n",
      "TorchDataEval/real_monkey_eval_v3_human_labelled 88\n",
      "TorchDataEval/real_torchdata_eval_v3_human_labelled 47\n",
      "TorchDataEval/real_torchdata_eval_v3_human_labelled_make_sense 47\n",
      "MBPP/sanitized-mbpp 261\n",
      "ODEX/en_test 265\n",
      "CoderEval/CoderEval4Python 171\n",
      "JigsawDataset/PandasEval1 62\n",
      "JigsawDataset/PandasEval2 21\n",
      "CoderEval/CoderEval4Java 171\n",
      "3566\n"
     ]
    }
   ],
   "source": [
    "total = 0\n",
    "for data in dataset_name.keys():\n",
    "    if 'MultiLineInfilling' in data:\n",
    "        continue\n",
    "    print(data, len(dataset_name[data]))\n",
    "    total += len(dataset_name[data])\n",
    "print(total)"
   ]
  },
  {
   "cell_type": "code",
   "execution_count": null,
   "metadata": {},
   "outputs": [],
   "source": [
    "problem_list = {}\n",
    "for item in data:\n",
    "    if item['model']=='datasets_study.problem':\n",
    "       problem_list[item['pk']] = item['fields']['description']\n",
    "print(problem_list)"
   ]
  },
  {
   "cell_type": "code",
   "execution_count": 27,
   "metadata": {},
   "outputs": [
    {
     "name": "stdout",
     "output_type": "stream",
     "text": [
      "dict_keys([4])\n",
      "3566\n",
      "10\n",
      "HumanEval/human-eval-v2-20210705 132 132\n",
      "mbxp_humaneval/HumanEval_java_v1 130 130\n",
      "mbxp/mbpp_release_v1 396 396\n",
      "mbxp/mbjp_release_v1 395 395\n",
      "pandasNumpyEval/offical_numpy 88 88\n",
      "pandasNumpyEval/offical_pandas 88 88\n",
      "TorchDataEval/real_beatnum_eval_v3_human_labelled 88 88\n",
      "TorchDataEval/real_monkey_eval_v3_human_labelled 88 88\n",
      "JigsawDataset/PandasEval1 62 62\n",
      "JigsawDataset/PandasEval2 21 21\n",
      "ODEX/en_test 265 265\n",
      "CoderEval/CoderEval4Python 171 171\n",
      "mbxp_mathqa/mathqa-test-python_v1 492 492\n",
      "mbxp_mathqa/mathqa-test-java_v1 492 492\n",
      "MBPP/sanitized-mbpp 261 261\n",
      "TorchDataEval/real_torchdata_eval_v3_human_labelled 47 47\n",
      "TorchDataEval/real_torchdata_eval_v3_human_labelled_make_sense 47 47\n",
      "mbxp_humaneval/HumanEval 132 132\n",
      "CoderEval/CoderEval4Java 171 171\n"
     ]
    }
   ],
   "source": [
    "users = defaultdict(list)\n",
    "analysis = defaultdict(list)\n",
    "problems = defaultdict(list)\n",
    "dataset_data = defaultdict(list)\n",
    "\n",
    "\n",
    "for item in analysis_data:\n",
    "    if item['fields']['user_id'] != 4:\n",
    "        continue\n",
    "    \n",
    "    users[item['fields']['user_id']].append(item['fields'])\n",
    "    analysis[item['fields']['prompt']].append(item['fields'])\n",
    "    for problem in item['fields']['problems']:\n",
    "        problems[problem].append(item['fields'])\n",
    "\n",
    "    for data in dataset_name.keys():\n",
    "        if item['fields']['prompt'] in dataset_name[data]:\n",
    "            dataset_data[data].append(item['fields'])\n",
    "            break\n",
    "print(users.keys())\n",
    "print(len(analysis))\n",
    "print(len(problems))    \n",
    "\n",
    "total = 0\n",
    "for data in dataset_data.keys():\n",
    "    # print(data, len(dataset_data[data]))\n",
    "    if len(dataset_name[data]) == len(dataset_data[data]):\n",
    "        print(data, len(dataset_name[data]), len(dataset_data[data]))\n"
   ]
  },
  {
   "cell_type": "code",
   "execution_count": null,
   "metadata": {},
   "outputs": [],
   "source": [
    "problems = sorted(problems.items(), key=lambda x: x[0])\n",
    "print(problems)"
   ]
  },
  {
   "cell_type": "code",
   "execution_count": null,
   "metadata": {},
   "outputs": [],
   "source": [
    "for item in problems:\n",
    "    key = item[0]\n",
    "    total = len(item[1])\n",
    "    print(f\"{key}. {problem_list[key]}: {total}\")\n"
   ]
  },
  {
   "cell_type": "code",
   "execution_count": null,
   "metadata": {},
   "outputs": [],
   "source": [
    "merged_analysis = defaultdict(list)\n",
    "for item in analysis_data:\n",
    "    if item['fields']['user_id'] != 3:\n",
    "        continue\n",
    "    merged_analysis[item['fields']['prompt']].append(item['fields'])\n"
   ]
  },
  {
   "cell_type": "code",
   "execution_count": null,
   "metadata": {},
   "outputs": [],
   "source": [
    "user_3_analysis = defaultdict(str)\n",
    "user_4_analysis = defaultdict(str)\n",
    "for item in users[3]:\n",
    "    item['problems'] = '#'.join(sorted( [str(x) for x in item['problems']] ))\n",
    "    user_3_analysis[item['prompt']] = item['problems']\n",
    "\n",
    "\n",
    "for item in users[4]:\n",
    "    item['problems'] = '#'.join(sorted( [str(x) for x in item['problems']] ))\n",
    "    user_4_analysis[item['prompt']] = item['problems']\n",
    "\n",
    "len(user_3_analysis), len(user_4_analysis)"
   ]
  },
  {
   "cell_type": "code",
   "execution_count": null,
   "metadata": {},
   "outputs": [],
   "source": [
    "user_3 = []\n",
    "user_4 = []\n",
    "problem_wise = defaultdict(list)\n",
    "for key in merged_analysis.keys():\n",
    "    if key not in user_3_analysis:\n",
    "        user_3_analysis[key] = ''\n",
    "    if key not in user_4_analysis:\n",
    "        user_4_analysis[key] = ''\n",
    "    user_3.append(user_3_analysis[key])\n",
    "    user_4.append(user_4_analysis[key])\n",
    "\n",
    "    for i in range(1,17):\n",
    "        if str(i) in user_3_analysis[key].split('#'):\n",
    "            problem_wise[i].append(1)\n",
    "        else:\n",
    "            problem_wise[i].append(0)\n",
    "            \n",
    "        if str(i) in user_4_analysis[key].split('#'):\n",
    "            problem_wise[i].append(1)\n",
    "        else:\n",
    "            problem_wise[i].append(0)\n"
   ]
  },
  {
   "cell_type": "code",
   "execution_count": null,
   "metadata": {},
   "outputs": [],
   "source": [
    "from sklearn.metrics import cohen_kappa_score\n",
    "cohen_kappa_score(user_3, user_4)"
   ]
  },
  {
   "cell_type": "code",
   "execution_count": null,
   "metadata": {},
   "outputs": [],
   "source": [
    "for i in range(1,17):\n",
    "    user_3 = []\n",
    "    user_4 = []\n",
    "    # print(problem_wise[i])\n",
    "    for index, item in enumerate(problem_wise[i]):\n",
    "        if index%2==0:\n",
    "            user_3.append(item)\n",
    "        else:\n",
    "            user_4.append(item)\n",
    "    print(sum(user_3), sum(user_4))\n",
    "    print(f\"Problem {i}: {cohen_kappa_score(user_3, user_4)}\")"
   ]
  },
  {
   "cell_type": "code",
   "execution_count": null,
   "metadata": {},
   "outputs": [],
   "source": []
  }
 ],
 "metadata": {
  "kernelspec": {
   "display_name": "Python 3",
   "language": "python",
   "name": "python3"
  },
  "language_info": {
   "codemirror_mode": {
    "name": "ipython",
    "version": 3
   },
   "file_extension": ".py",
   "mimetype": "text/x-python",
   "name": "python",
   "nbconvert_exporter": "python",
   "pygments_lexer": "ipython3",
   "version": "3.9.4"
  },
  "orig_nbformat": 4
 },
 "nbformat": 4,
 "nbformat_minor": 2
}
