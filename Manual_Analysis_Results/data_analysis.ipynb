{
 "cells": [
  {
   "cell_type": "code",
   "execution_count": 1,
   "metadata": {},
   "outputs": [],
   "source": [
    "import json\n",
    "from collections import defaultdict\n"
   ]
  },
  {
   "cell_type": "code",
   "execution_count": 2,
   "metadata": {},
   "outputs": [
    {
     "name": "stdout",
     "output_type": "stream",
     "text": [
      "20\n"
     ]
    }
   ],
   "source": [
    "with open(\"datasets_study_final.json\", \"r\") as f:\n",
    "    data = json.load(f) \n",
    "\n",
    "analysis_data = []\n",
    "prompt_data = []    \n",
    "\n",
    "dataset_name = defaultdict(list)\n",
    "for item in data:\n",
    "    if item['model']=='datasets_study.analysis':\n",
    "        analysis_data.append(item)\n",
    "    elif item['model']=='datasets_study.prompt':\n",
    "        prompt_data.append(item)\n",
    "        dataset_name[item['fields']['source_dataset']].append(item['pk'])\n",
    "\n",
    "\n",
    "\n",
    "\n",
    "len(analysis_data),len(prompt_data)\n",
    "print(len(dataset_name.keys()))"
   ]
  },
  {
   "cell_type": "code",
   "execution_count": 3,
   "metadata": {},
   "outputs": [
    {
     "name": "stdout",
     "output_type": "stream",
     "text": [
      "{1: 'Spelling and grammatical errors', 2: 'Very short sentence', 3: 'Partial or incomplete sentence', 4: 'Self-Admitted Technical Debt', 5: 'Automatically generated code/comments', 6: \"Method name mismatches with the function/method's intent.\", 7: 'Not using JavaDoc (Java) or docstring (Python) on the prompt.', 8: 'Inconsistent prompt style', 9: 'URL or reference in the comment', 12: 'Interrogation questions in the prompt', 13: 'JavaDoc/docstring has formatting issues', 14: 'Comment includes PII(author name, email address, etc.)', 15: 'The prompt description is unclear', 16: 'Incorrect input/output pair example'}\n"
     ]
    }
   ],
   "source": [
    "problem_list = {}\n",
    "for item in data:\n",
    "    if item['model']=='datasets_study.problem':\n",
    "       problem_list[item['pk']] = item['fields']['description']\n",
    "print(problem_list)"
   ]
  },
  {
   "cell_type": "code",
   "execution_count": 4,
   "metadata": {},
   "outputs": [
    {
     "name": "stdout",
     "output_type": "stream",
     "text": [
      "dict_keys([4, 3, 1, 11])\n",
      "4164\n",
      "12\n",
      "HumanEval-Infilling/HumanEval-MultiLineInfilling 598 598\n"
     ]
    }
   ],
   "source": [
    "users = defaultdict(list)\n",
    "analysis = defaultdict(list)\n",
    "problems = defaultdict(list)\n",
    "dataset_data = defaultdict(list)\n",
    "\n",
    "problem_ids = defaultdict(list)\n",
    "\n",
    "\n",
    "for item in analysis_data:\n",
    "    # if item['fields']['user_id'] != 4:\n",
    "    #     continue\n",
    "    \n",
    "    users[item['fields']['user_id']].append(item['fields'])\n",
    "    analysis[item['fields']['prompt']].append(item['fields'])\n",
    "    for problem in item['fields']['problems']:\n",
    "\n",
    "        problems[problem].append(item['fields'])\n",
    "        if problem == 13:\n",
    "            problem = 7\n",
    "        problem_ids[problem].append(item['fields']['prompt'])\n",
    "\n",
    "    for data in dataset_name.keys():\n",
    "        if item['fields']['prompt'] in dataset_name[data]:\n",
    "            dataset_data[data].append(item['fields'])\n",
    "            break\n",
    "print(users.keys())\n",
    "print(len(analysis))\n",
    "print(len(problems))    \n",
    "\n",
    "total = 0\n",
    "for data in dataset_data.keys():\n",
    "    # print(data, len(dataset_data[data]))\n",
    "    if len(dataset_name[data]) == len(dataset_data[data]):\n",
    "        print(data, len(dataset_name[data]), len(dataset_data[data]))\n"
   ]
  },
  {
   "cell_type": "code",
   "execution_count": 6,
   "metadata": {},
   "outputs": [
    {
     "data": {
      "text/plain": [
       "[12,\n",
       " 84,\n",
       " 123,\n",
       " 1130,\n",
       " 1159,\n",
       " 1167,\n",
       " 402,\n",
       " 536,\n",
       " 576,\n",
       " 582,\n",
       " 594,\n",
       " 638,\n",
       " 648,\n",
       " 673,\n",
       " 687,\n",
       " 693,\n",
       " 708,\n",
       " 721,\n",
       " 728,\n",
       " 729,\n",
       " 750,\n",
       " 227,\n",
       " 240,\n",
       " 273,\n",
       " 303,\n",
       " 351,\n",
       " 771,\n",
       " 778,\n",
       " 779,\n",
       " 792,\n",
       " 796,\n",
       " 812,\n",
       " 823,\n",
       " 835,\n",
       " 839,\n",
       " 854,\n",
       " 865,\n",
       " 898,\n",
       " 906,\n",
       " 924,\n",
       " 925,\n",
       " 936,\n",
       " 12,\n",
       " 123,\n",
       " 227,\n",
       " 240,\n",
       " 273,\n",
       " 351,\n",
       " 402,\n",
       " 536,\n",
       " 576,\n",
       " 638,\n",
       " 925,\n",
       " 936,\n",
       " 1064,\n",
       " 1145,\n",
       " 1159]"
      ]
     },
     "execution_count": 6,
     "metadata": {},
     "output_type": "execute_result"
    }
   ],
   "source": [
    "problem_ids[16]"
   ]
  },
  {
   "cell_type": "code",
   "execution_count": null,
   "metadata": {},
   "outputs": [],
   "source": [
    "problems = sorted(problems.items(), key=lambda x: x[0])\n",
    "# print(problems)"
   ]
  },
  {
   "cell_type": "code",
   "execution_count": null,
   "metadata": {},
   "outputs": [],
   "source": [
    "for problem in problem_ids:\n",
    "    print(problem, len(problem_ids[problem]), len(set(problem_ids[problem])))"
   ]
  },
  {
   "cell_type": "code",
   "execution_count": null,
   "metadata": {},
   "outputs": [],
   "source": [
    "for item in problems:\n",
    "    key = item[0]\n",
    "    total = len(item[1])\n",
    "    print(f\"{key}. {problem_list[key]}: {total}\")\n"
   ]
  },
  {
   "cell_type": "code",
   "execution_count": null,
   "metadata": {},
   "outputs": [],
   "source": [
    "merged_analysis = defaultdict(list)\n",
    "for item in analysis_data:\n",
    "    if item['fields']['user_id'] != 3:\n",
    "        continue\n",
    "    merged_analysis[item['fields']['prompt']].append(item['fields'])\n"
   ]
  },
  {
   "cell_type": "code",
   "execution_count": null,
   "metadata": {},
   "outputs": [],
   "source": [
    "user_3_analysis = defaultdict(str)\n",
    "user_4_analysis = defaultdict(str)\n",
    "for item in users[3]:\n",
    "    item['problems'] = '#'.join(sorted( [str(x) for x in item['problems']] ))\n",
    "    user_3_analysis[item['prompt']] = item['problems']\n",
    "\n",
    "\n",
    "for item in users[4]:\n",
    "    item['problems'] = '#'.join(sorted( [str(x) for x in item['problems']] ))\n",
    "    user_4_analysis[item['prompt']] = item['problems']\n",
    "\n",
    "len(user_3_analysis), len(user_4_analysis)"
   ]
  },
  {
   "cell_type": "code",
   "execution_count": null,
   "metadata": {},
   "outputs": [],
   "source": [
    "user_3 = []\n",
    "user_4 = []\n",
    "problem_wise = defaultdict(list)\n",
    "for key in merged_analysis.keys():\n",
    "    if key not in user_3_analysis:\n",
    "        user_3_analysis[key] = ''\n",
    "    if key not in user_4_analysis:\n",
    "        user_4_analysis[key] = ''\n",
    "    user_3.append(user_3_analysis[key])\n",
    "    user_4.append(user_4_analysis[key])\n",
    "\n",
    "    for i in range(1,17):\n",
    "        if str(i) in user_3_analysis[key].split('#'):\n",
    "            problem_wise[i].append(1)\n",
    "        else:\n",
    "            problem_wise[i].append(0)\n",
    "            \n",
    "        if str(i) in user_4_analysis[key].split('#'):\n",
    "            problem_wise[i].append(1)\n",
    "        else:\n",
    "            problem_wise[i].append(0)\n"
   ]
  },
  {
   "cell_type": "code",
   "execution_count": null,
   "metadata": {},
   "outputs": [],
   "source": [
    "from sklearn.metrics import cohen_kappa_score\n",
    "cohen_kappa_score(user_3, user_4)"
   ]
  },
  {
   "cell_type": "code",
   "execution_count": null,
   "metadata": {},
   "outputs": [],
   "source": [
    "for i in range(1,17):\n",
    "    user_3 = []\n",
    "    user_4 = []\n",
    "    # print(problem_wise[i])\n",
    "    for index, item in enumerate(problem_wise[i]):\n",
    "        if index%2==0:\n",
    "            user_3.append(item)\n",
    "        else:\n",
    "            user_4.append(item)\n",
    "    print(sum(user_3), sum(user_4))\n",
    "    print(f\"Problem {i}: {cohen_kappa_score(user_3, user_4)}\")"
   ]
  },
  {
   "cell_type": "code",
   "execution_count": null,
   "metadata": {},
   "outputs": [],
   "source": []
  }
 ],
 "metadata": {
  "kernelspec": {
   "display_name": "Python 3",
   "language": "python",
   "name": "python3"
  },
  "language_info": {
   "codemirror_mode": {
    "name": "ipython",
    "version": 3
   },
   "file_extension": ".py",
   "mimetype": "text/x-python",
   "name": "python",
   "nbconvert_exporter": "python",
   "pygments_lexer": "ipython3",
   "version": "3.9.4"
  },
  "orig_nbformat": 4
 },
 "nbformat": 4,
 "nbformat_minor": 2
}
