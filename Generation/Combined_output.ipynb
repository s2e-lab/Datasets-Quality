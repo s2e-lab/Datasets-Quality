{
 "cells": [
  {
   "cell_type": "code",
   "execution_count": 25,
   "metadata": {},
   "outputs": [],
   "source": [
    "import json\n",
    "\n",
    "from collections import defaultdict"
   ]
  },
  {
   "cell_type": "code",
   "execution_count": 26,
   "metadata": {},
   "outputs": [
    {
     "data": {
      "text/plain": [
       "(379, 316)"
      ]
     },
     "execution_count": 26,
     "metadata": {},
     "output_type": "execute_result"
    }
   ],
   "source": [
    "file_name = \"StarCoder_Output_Py_0.2\"\n",
    "\n",
    "old_data = json.load(open(f'./Output/{file_name}.json'))\n",
    "new_data = json.load(open(f'./Output/{file_name}_new.json'))\n",
    "\n",
    "len(old_data), len(new_data)"
   ]
  },
  {
   "cell_type": "code",
   "execution_count": 27,
   "metadata": {},
   "outputs": [],
   "source": [
    "map_old = defaultdict(list)\n",
    "map_new = defaultdict(list)\n",
    "for d in old_data:\n",
    "    map_old[d['id']].append(d)\n",
    "\n",
    "for d in new_data:\n",
    "    map_new[d['id']].append(d)\n",
    "    "
   ]
  },
  {
   "cell_type": "code",
   "execution_count": 28,
   "metadata": {},
   "outputs": [
    {
     "data": {
      "text/plain": [
       "663"
      ]
     },
     "execution_count": 28,
     "metadata": {},
     "output_type": "execute_result"
    }
   ],
   "source": [
    "combined_data = []\n",
    "\n",
    "for k in map_old:\n",
    "    if k not in map_new:\n",
    "        combined_data.extend(map_old[k])\n",
    "    else:\n",
    "        combined_data.extend(map_new[k])\n",
    "\n",
    "for k in map_new:\n",
    "    if k not in map_old:\n",
    "        combined_data.extend(map_new[k])\n",
    "\n",
    "len(combined_data)"
   ]
  },
  {
   "cell_type": "code",
   "execution_count": 29,
   "metadata": {},
   "outputs": [],
   "source": [
    "with open(f'./Output/{file_name}.json', 'w') as f:\n",
    "    json.dump(combined_data, f)"
   ]
  },
  {
   "cell_type": "code",
   "execution_count": null,
   "metadata": {},
   "outputs": [],
   "source": []
  }
 ],
 "metadata": {
  "kernelspec": {
   "display_name": "Python 3",
   "language": "python",
   "name": "python3"
  },
  "language_info": {
   "codemirror_mode": {
    "name": "ipython",
    "version": 3
   },
   "file_extension": ".py",
   "mimetype": "text/x-python",
   "name": "python",
   "nbconvert_exporter": "python",
   "pygments_lexer": "ipython3",
   "version": "3.9.4"
  }
 },
 "nbformat": 4,
 "nbformat_minor": 2
}
