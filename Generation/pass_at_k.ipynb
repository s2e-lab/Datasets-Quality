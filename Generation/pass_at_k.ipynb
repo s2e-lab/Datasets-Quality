{
 "cells": [
  {
   "cell_type": "code",
   "execution_count": 3,
   "metadata": {},
   "outputs": [],
   "source": [
    "import pandas as pd\n",
    "from typing import List, Union\n",
    "import itertools\n",
    "\n",
    "import numpy as np\n",
    "from collections import defaultdict\n",
    "import os\n",
    "import pandas as pd\n",
    "import json"
   ]
  },
  {
   "cell_type": "code",
   "execution_count": 2,
   "metadata": {},
   "outputs": [],
   "source": [
    "def estimate_pass_at_k(\n",
    "    num_samples: Union[int, List[int], np.ndarray],\n",
    "    num_correct: Union[List[int], np.ndarray],\n",
    "    k: int\n",
    ") -> np.ndarray:\n",
    "    \"\"\"\n",
    "    Estimates pass@k of each problem and returns them in an array.\n",
    "    \"\"\"\n",
    "\n",
    "    def estimator(n: int, c: int, k: int) -> float:\n",
    "        \"\"\"\n",
    "        Calculates 1 - comb(n - c, k) / comb(n, k).\n",
    "        \"\"\"\n",
    "        if n - c < k:\n",
    "            return 1.0\n",
    "        return 1.0 - np.prod(1.0 - k / np.arange(n - c + 1, n + 1))\n",
    "\n",
    "    if isinstance(num_samples, int):\n",
    "        num_samples_it = itertools.repeat(num_samples, len(num_correct))\n",
    "    else:\n",
    "        assert len(num_samples) == len(num_correct)\n",
    "        num_samples_it = iter(num_samples)\n",
    "\n",
    "    return np.array([estimator(int(n), int(c), k) for n, c in zip(num_samples_it, num_correct)])"
   ]
  },
  {
   "cell_type": "code",
   "execution_count": 4,
   "metadata": {},
   "outputs": [
    {
     "data": {
      "text/plain": [
       "379"
      ]
     },
     "execution_count": 4,
     "metadata": {},
     "output_type": "execute_result"
    }
   ],
   "source": [
    "with open('./Output/GPT3.5_Output_Py_1.0_result.jsonl') as f:\n",
    "    data = [json.loads(line) for line in f]\n",
    "\n"
   ]
  },
  {
   "cell_type": "code",
   "execution_count": 8,
   "metadata": {},
   "outputs": [
    {
     "data": {
      "text/plain": [
       "dict_keys(['original', 'P8', 'P1', 'all', 'P6', 'P15', 'P4'])"
      ]
     },
     "execution_count": 8,
     "metadata": {},
     "output_type": "execute_result"
    }
   ],
   "source": [
    "problem_mapping = defaultdict(list)\n",
    "for d in data:\n",
    "    id = d['task_id']\n",
    "    splitted = id.split('_')\n",
    "    if len(splitted) == 1:\n",
    "        problem_mapping['original'].append(d)\n",
    "    else:\n",
    "        problem_mapping[splitted[1]].append(d)\n",
    "\n",
    "problem_mapping.keys()"
   ]
  },
  {
   "cell_type": "code",
   "execution_count": 12,
   "metadata": {},
   "outputs": [
    {
     "name": "stdout",
     "output_type": "stream",
     "text": [
      "Problem type: original\n",
      "len: 164\n",
      "Pass@1: 0.4621951219512195\n",
      "Pass@3: 0.7015350877192983\n",
      "Pass@10: 0.8425229201441163\n",
      "Problem type: P8\n",
      "len: 147\n",
      "Pass@1: 0.4571428571428572\n",
      "Pass@3: 0.6786788399570355\n",
      "Pass@10: 0.814716280328841\n",
      "Problem type: P1\n",
      "len: 27\n",
      "Pass@1: 0.38888888888888895\n",
      "Pass@3: 0.691812865497076\n",
      "Pass@10: 0.9095812454945581\n",
      "Problem type: all\n",
      "len: 32\n",
      "Pass@1: 0.2921875\n",
      "Pass@3: 0.5006853070175439\n",
      "Pass@10: 0.6566924754811752\n",
      "Problem type: P6\n",
      "len: 7\n",
      "Pass@1: 0.0\n",
      "Pass@3: 0.0\n",
      "Pass@10: 0.0\n",
      "Problem type: P15\n",
      "len: 1\n",
      "Pass@1: 0.0\n",
      "Pass@3: 0.0\n",
      "Pass@10: 0.0\n",
      "Problem type: P4\n",
      "len: 1\n",
      "Pass@1: 0.15000000000000002\n",
      "Pass@3: 0.4035087719298246\n",
      "Pass@10: 0.8947368421052632\n"
     ]
    }
   ],
   "source": [
    "for key in problem_mapping.keys():\n",
    "    problems = problem_mapping[key]\n",
    "    results = defaultdict(list)\n",
    "    for d in problems:\n",
    "        for i in range(20):\n",
    "            results[d['task_id']].append(d[f'result_{i}']['passed'])\n",
    "    total, correct = [], []\n",
    "    for result in results.values():\n",
    "        total.append(len(result))\n",
    "        correct.append(sum(result))\n",
    "    pass_at_1 = estimate_pass_at_k(total, correct, 1)\n",
    "    pass_at_3 = estimate_pass_at_k(total, correct, 3)\n",
    "    pass_at_10 = estimate_pass_at_k(total, correct, 10)\n",
    "    print(f'Problem type: {key}')\n",
    "    print(f'len: {len(total)}')\n",
    "    print(f'Pass@1: {np.mean(pass_at_1)}')\n",
    "    print(f'Pass@3: {np.mean(pass_at_3)}')\n",
    "    print(f'Pass@10: {np.mean(pass_at_10)}')"
   ]
  },
  {
   "cell_type": "code",
   "execution_count": null,
   "metadata": {},
   "outputs": [],
   "source": []
  }
 ],
 "metadata": {
  "kernelspec": {
   "display_name": "Python 3",
   "language": "python",
   "name": "python3"
  },
  "language_info": {
   "codemirror_mode": {
    "name": "ipython",
    "version": 3
   },
   "file_extension": ".py",
   "mimetype": "text/x-python",
   "name": "python",
   "nbconvert_exporter": "python",
   "pygments_lexer": "ipython3",
   "version": "3.9.4"
  }
 },
 "nbformat": 4,
 "nbformat_minor": 2
}
