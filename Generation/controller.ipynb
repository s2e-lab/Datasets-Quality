{
 "cells": [
  {
   "cell_type": "code",
   "execution_count": 70,
   "metadata": {},
   "outputs": [],
   "source": [
    "import json\n",
    "from collections import defaultdict\n",
    "import subprocess\n",
    "import os"
   ]
  },
  {
   "cell_type": "code",
   "execution_count": 71,
   "metadata": {},
   "outputs": [],
   "source": [
    "import re\n",
    "\n",
    "def remove_comments(code):\n",
    "    # Remove single-line comments\n",
    "    code = re.sub(r'#.*', '', code)\n",
    "    \n",
    "    # Remove multi-line comments\n",
    "    code = re.sub(r'(\\'\\'\\'(.|\\n)*?\\'\\'\\'|\\\"\\\"\\\"(.|\\n)*?\\\"\\\"\\\")', '', code)\n",
    "\n",
    "    lines = code.split('\\n')\n",
    "    code = ''\n",
    "    for line in lines:\n",
    "        if line.strip() != '':\n",
    "            code += line + '\\n'\n",
    "    \n",
    "    return code"
   ]
  },
  {
   "cell_type": "code",
   "execution_count": 72,
   "metadata": {},
   "outputs": [],
   "source": [
    "\n",
    "with open('./HumanEval_Py_original.jsonl', 'r') as f:\n",
    "    data = f.readlines()\n",
    "    original_data = [json.loads(line) for line in data]\n",
    "\n",
    "\n",
    "lines = []\n",
    "mapping = defaultdict(list)\n",
    "for d in original_data:\n",
    "    id = d['task_id'].split('/')[1]\n",
    "    mapping[id].append(d)\n",
    "    with open(f'./Original_Files/{id}_.py', 'w') as f:\n",
    "        f.write(remove_comments(d['prompt']+'\\n'+d['canonical_solution']))\n",
    "#         prompt_line = len(d['prompt'].split('\\n'))\n",
    "#         canonical_line = len(d['canonical_solution'].split('\\n'))\n",
    "#         total_line = prompt_line + canonical_line\n",
    "#         without_comments = len(remove_comments(d['prompt']+'\\n'+d['canonical_solution']).split('\\n'))\n",
    "#         lines.append([id, prompt_line, canonical_line, total_line, without_comments])\n",
    "\n",
    "# import pandas as pd\n",
    "# df = pd.DataFrame(lines, columns=['id', 'prompt', 'canonical', 'total', 'without_comments'])\n",
    "# df.to_csv('line_count.csv', index=False)\n"
   ]
  },
  {
   "cell_type": "code",
   "execution_count": 73,
   "metadata": {},
   "outputs": [],
   "source": [
    "from execution import check_correctness"
   ]
  },
  {
   "cell_type": "code",
   "execution_count": 74,
   "metadata": {},
   "outputs": [],
   "source": [
    "file_name = 'CodeGen_Output_Py_0.2'\n",
    "with open(f'./Output/{file_name}.json', 'r') as f:\n",
    "    data = json.load(f)\n"
   ]
  },
  {
   "cell_type": "code",
   "execution_count": 75,
   "metadata": {},
   "outputs": [],
   "source": [
    "split_tokens = [\"\\n'''\",\"\\n\\\"\\\"\\\"'\",\"if __name__ == '__main__':\",'if __name__ == \"__main__\":']\n",
    "# split_tokens = [\"if __name__ == '__main__':\",'if __name__ == \"__main__\":']"
   ]
  },
  {
   "cell_type": "code",
   "execution_count": 76,
   "metadata": {},
   "outputs": [],
   "source": [
    "def clear_generated_code(data):\n",
    "    data = data.split('<|endoftext|>')[0]   \n",
    "\n",
    "    for token in split_tokens:\n",
    "        data = data.split(token)[0]\n",
    "        \n",
    "    lines = data.split('\\n')\n",
    "    new_data = ''\n",
    "    for line in lines:\n",
    "        if 'def ' in line:\n",
    "            continue\n",
    "        if not line.startswith(' '):\n",
    "            line = '    '+line\n",
    "        new_data += line+'\\n'\n",
    "\n",
    "    \n",
    "\n",
    "    return new_data\n"
   ]
  },
  {
   "cell_type": "code",
   "execution_count": 77,
   "metadata": {},
   "outputs": [],
   "source": [
    "def java_clear_generated_code(data):\n",
    "    data = data.split('<|endoftext|>')[0]   \n",
    "    data = data.split('public static void main')[0]\n",
    "    left_bracket = data.count('{')\n",
    "    right_bracket = data.count('}')\n",
    "    if left_bracket > right_bracket:\n",
    "        data += '}'*(left_bracket-right_bracket)\n",
    "    return data"
   ]
  },
  {
   "cell_type": "code",
   "execution_count": 78,
   "metadata": {},
   "outputs": [],
   "source": [
    "def get_Java_compilation_result(path):\n",
    "\n",
    "    cmd = f'javac {path}'\n",
    "    # print(cmd)\n",
    "    p = subprocess.Popen(cmd, shell=True, stdout=subprocess.PIPE, stderr=subprocess.PIPE)\n",
    "    out, err = p.communicate()\n",
    "    if err:\n",
    "        return out, err.decode('utf-8')\n",
    "    \n",
    "    path = path.replace('.java', '')\n",
    "    p = subprocess.Popen(cmd, shell=True, stdout=subprocess.PIPE, stderr=subprocess.PIPE)\n",
    "    out, err = p.communicate()\n",
    "\n",
    "    return out, err\n"
   ]
  },
  {
   "cell_type": "code",
   "execution_count": 79,
   "metadata": {},
   "outputs": [],
   "source": [
    "new_data = []\n",
    "# for file in os.listdir('./Files'):\n",
    "#     if file.endswith('.class'):\n",
    "#         os.remove(f'./Files/{file}')\n",
    "#     if file.endswith('.java'):\n",
    "#         os.remove(f'./Files/{file}')\n",
    "for d in data:\n",
    "    id = d['id']\n",
    "\n",
    "    original_id = id.split('_')[0]\n",
    "    original_item = mapping[original_id][0]\n",
    "    problem ={\n",
    "        'task_id': id,\n",
    "        'test': original_item['test'],\n",
    "        'entry_point': original_item['entry_point'],\n",
    "        'prompt': d['prompt']+'\\n',\n",
    "    }\n",
    "    # for i, c in enumerate(d['output']['choices']):\n",
    "    for i, c in enumerate(d['output']):\n",
    "        # print(i)\n",
    "        # completion = clear_generated_code(c['message']['content'])\n",
    "        # completion = clear_generated_code(c['message']['content'].split('<|endoftext|>')[0])\n",
    "        completion = c['text'].split('<|endoftext|>')[0]\n",
    "        # problem['completion_'+str(i)] = completion\n",
    "        with open(f'./Files/{id}_{str(i)}.py', 'w') as f:\n",
    "            f.write(remove_comments(completion))\n",
    "            # f.write(remove_comments(completion))\n",
    "\n",
    "        # result = check_correctness(problem, completion, 3.0)\n",
    "\n",
    "        # print(result)\n",
    "        \n",
    "        # with open(f'./Files/Main.java', 'w') as f:\n",
    "        #     f.write(java_clear_generated_code(completion)+'\\n'+original_item['test'])\n",
    "        # out, err = get_Java_compilation_result(f'./Files/Main.java')\n",
    "\n",
    "        # for file in os.listdir('./Files'):\n",
    "        #     if file.endswith('.class'):\n",
    "        #         os.remove(f'./Files/{file}')\n",
    "        #     if file.endswith('.java'):\n",
    "        #         os.remove(f'./Files/{file}')\n",
    "\n",
    "\n",
    "\n",
    "        # result = {}\n",
    "        # if err:\n",
    "        #     result['passed'] = False\n",
    "        #     result['compilation_error'] = str(err)\n",
    "        # else:\n",
    "        #     result['passed'] = True\n",
    "        #     result['compilation_error'] = ''\n",
    "        #     result['output'] = out.decode('utf-8')\n",
    "        #print(result)\n",
    "\n",
    "#         problem['result_'+str(i)] = result\n",
    "#     new_data.append(problem)\n",
    "#         # print(problem)\n",
    "# with open(f'./Output/{file_name}_result.jsonl', 'w') as f:\n",
    "#     for d in new_data:\n",
    "#         f.write(json.dumps(d)+'\\n')"
   ]
  },
  {
   "cell_type": "code",
   "execution_count": null,
   "metadata": {},
   "outputs": [],
   "source": []
  }
 ],
 "metadata": {
  "kernelspec": {
   "display_name": "Python 3",
   "language": "python",
   "name": "python3"
  },
  "language_info": {
   "codemirror_mode": {
    "name": "ipython",
    "version": 3
   },
   "file_extension": ".py",
   "mimetype": "text/x-python",
   "name": "python",
   "nbconvert_exporter": "python",
   "pygments_lexer": "ipython3",
   "version": "3.9.4"
  }
 },
 "nbformat": 4,
 "nbformat_minor": 2
}
