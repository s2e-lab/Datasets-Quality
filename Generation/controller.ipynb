{
 "cells": [
  {
   "cell_type": "code",
   "execution_count": 20,
   "metadata": {},
   "outputs": [],
   "source": [
    "import json\n",
    "from collections import defaultdict\n",
    "import subprocess\n",
    "import os"
   ]
  },
  {
   "cell_type": "code",
   "execution_count": 21,
   "metadata": {},
   "outputs": [],
   "source": [
    "\n",
    "with open('./HumanEval_java_v1.1.jsonl', 'r') as f:\n",
    "    data = f.readlines()\n",
    "    original_data = [json.loads(line) for line in data]\n",
    "\n",
    "mapping = defaultdict(list)\n",
    "for d in original_data:\n",
    "    id = d['task_id'].split('/')[1]\n",
    "    mapping[id].append(d)\n",
    "\n"
   ]
  },
  {
   "cell_type": "code",
   "execution_count": 22,
   "metadata": {},
   "outputs": [],
   "source": [
    "from execution import check_correctness"
   ]
  },
  {
   "cell_type": "code",
   "execution_count": 23,
   "metadata": {},
   "outputs": [],
   "source": [
    "file_name = 'StarCoder_Output_Java_new_0.8'\n",
    "with open(f'./Output/{file_name}.json', 'r') as f:\n",
    "    data = json.load(f)\n"
   ]
  },
  {
   "cell_type": "code",
   "execution_count": 24,
   "metadata": {},
   "outputs": [],
   "source": [
    "split_tokens = [\"\\n'''\",\"\\n\\\"\\\"\\\"'\"]"
   ]
  },
  {
   "cell_type": "code",
   "execution_count": 25,
   "metadata": {},
   "outputs": [],
   "source": [
    "def clear_generated_code(data):\n",
    "    data = data.split('<|endoftext|>')[0]   \n",
    "\n",
    "    for token in split_tokens:\n",
    "        data = data.split(token)[0]\n",
    "        \n",
    "    lines = data.split('\\n')\n",
    "    new_data = ''\n",
    "    for line in lines:\n",
    "        if 'def ' in line:\n",
    "            continue\n",
    "        if not line.startswith(' '):\n",
    "            line = '    '+line\n",
    "        new_data += line+'\\n'\n",
    "\n",
    "    \n",
    "\n",
    "    return new_data\n"
   ]
  },
  {
   "cell_type": "code",
   "execution_count": 26,
   "metadata": {},
   "outputs": [],
   "source": [
    "def java_clear_generated_code(data):\n",
    "    data = data.split('<|endoftext|>')[0]   \n",
    "    data = data.split('public static void main')[0]\n",
    "    left_bracket = data.count('{')\n",
    "    right_bracket = data.count('}')\n",
    "    if left_bracket > right_bracket:\n",
    "        data += '}'*(left_bracket-right_bracket)\n",
    "    return data"
   ]
  },
  {
   "cell_type": "code",
   "execution_count": 27,
   "metadata": {},
   "outputs": [],
   "source": [
    "def get_Java_compilation_result(path):\n",
    "\n",
    "    cmd = f'javac {path}'\n",
    "    # print(cmd)\n",
    "    p = subprocess.Popen(cmd, shell=True, stdout=subprocess.PIPE, stderr=subprocess.PIPE)\n",
    "    out, err = p.communicate()\n",
    "    if err:\n",
    "        return out, err.decode('utf-8')\n",
    "    \n",
    "    path = path.replace('.java', '')\n",
    "    p = subprocess.Popen(cmd, shell=True, stdout=subprocess.PIPE, stderr=subprocess.PIPE)\n",
    "    out, err = p.communicate()\n",
    "\n",
    "    return out, err\n"
   ]
  },
  {
   "cell_type": "code",
   "execution_count": 28,
   "metadata": {},
   "outputs": [],
   "source": [
    "new_data = []\n",
    "for file in os.listdir('./Files'):\n",
    "    if file.endswith('.class'):\n",
    "        os.remove(f'./Files/{file}')\n",
    "    if file.endswith('.java'):\n",
    "        os.remove(f'./Files/{file}')\n",
    "for d in data:\n",
    "    id = d['id']\n",
    "\n",
    "    original_id = id.split('_')[0]\n",
    "    original_item = mapping[original_id][0]\n",
    "    problem ={\n",
    "        'task_id': id,\n",
    "        'test': original_item['test'],\n",
    "        'entry_point': original_item['entry_point'],\n",
    "        'prompt': d['prompt']+'\\n',\n",
    "    }\n",
    "    # for i, c in enumerate(d['output']['choices']):\n",
    "    for i, c in enumerate(d['output']):\n",
    "        # print(i)\n",
    "        # completion = clear_generated_code(c['message']['content'])\n",
    "        # completion = c['message']['content']\n",
    "        completion = c['text']\n",
    "        # completion = c['text'].split('<|endoftext|>')[0]\n",
    "        problem['completion_'+str(i)] = completion\n",
    "        with open(f'./Files/Main.java', 'w') as f:\n",
    "            f.write(java_clear_generated_code(completion)+'\\n'+original_item['test'])\n",
    "        out, err = get_Java_compilation_result(f'./Files/Main.java')\n",
    "\n",
    "        for file in os.listdir('./Files'):\n",
    "            if file.endswith('.class'):\n",
    "                os.remove(f'./Files/{file}')\n",
    "            if file.endswith('.java'):\n",
    "                os.remove(f'./Files/{file}')\n",
    "\n",
    "\n",
    "\n",
    "        result = {}\n",
    "        if err:\n",
    "            result['passed'] = False\n",
    "            result['compilation_error'] = str(err)\n",
    "        else:\n",
    "            result['passed'] = True\n",
    "            result['compilation_error'] = ''\n",
    "            result['output'] = out.decode('utf-8')\n",
    "        # print(result)\n",
    "\n",
    "        problem['result_'+str(i)] = result\n",
    "    new_data.append(problem)\n",
    "        # print(problem)\n",
    "with open(f'./Output/{file_name}_result.jsonl', 'w') as f:\n",
    "    for d in new_data:\n",
    "        f.write(json.dumps(d)+'\\n')"
   ]
  },
  {
   "cell_type": "code",
   "execution_count": null,
   "metadata": {},
   "outputs": [],
   "source": []
  }
 ],
 "metadata": {
  "kernelspec": {
   "display_name": "Python 3",
   "language": "python",
   "name": "python3"
  },
  "language_info": {
   "codemirror_mode": {
    "name": "ipython",
    "version": 3
   },
   "file_extension": ".py",
   "mimetype": "text/x-python",
   "name": "python",
   "nbconvert_exporter": "python",
   "pygments_lexer": "ipython3",
   "version": "3.9.4"
  }
 },
 "nbformat": 4,
 "nbformat_minor": 2
}
