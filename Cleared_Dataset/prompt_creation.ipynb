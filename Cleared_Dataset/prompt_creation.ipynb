{
 "cells": [
  {
   "cell_type": "code",
   "execution_count": 1,
   "metadata": {},
   "outputs": [],
   "source": [
    "import os\n",
    "import json"
   ]
  },
  {
   "cell_type": "code",
   "execution_count": 2,
   "metadata": {},
   "outputs": [],
   "source": [
    "folder_path = './HumanEval_Py'"
   ]
  },
  {
   "cell_type": "code",
   "execution_count": 3,
   "metadata": {},
   "outputs": [
    {
     "name": "stdout",
     "output_type": "stream",
     "text": [
      "['0.py', '0_P13.py', '1.py', '10.py', '100.py', '100_P13.py', '100_P8.py', '100_all.py', '101.py', '101_P13.py', '101_P8.py', '101_all.py', '102.py', '102_P13.py', '102_P8.py', '102_all.py', '103.py', '103_P13.py', '103_P8.py', '103_all.py', '104.py', '104_P1.py', '104_P13.py', '104_P8.py', '104_all.py', '105.py', '105_P13.py', '105_P8.py', '105_all.py', '106.py', '106_P13.py', '106_P6.py', '106_P8.py', '106_all.py', '107.py', '107_P13.py', '107_P8.py', '107_all.py', '108.py', '108_P13.py', '108_P8.py', '108_all.py', '109.py', '109_P1.py', '109_P13.py', '109_P8.py', '109_all.py', '10_P13.py', '10_P8.py', '10_all.py', '11.py', '110.py', '110_P13.py', '110_P8.py', '110_all.py', '111.py', '111_P13.py', '111_P8.py', '111_all.py', '112.py', '112_P1.py', '112_P13.py', '112_P8.py', '112_all.py', '113.py', '113_P13.py', '113_P8.py', '113_all.py', '114.py', '114_P1.py', '114_P13.py', '114_P8.py', '114_all.py', '115.py', '115_P13.py', '115_P8.py', '115_all.py', '116.py', '116_P1.py', '116_P13.py', '116_P8.py', '116_all.py', '117.py', '117_P13.py', '117_P8.py', '117_all.py', '118.py', '118_P13.py', '118_P8.py', '118_all.py', '119.py', '119_P13.py', '119_P8.py', '119_all.py', '11_P13.py', '11_P8.py', '11_all.py', '12.py', '120.py', '120_P13.py', '120_P8.py', '120_all.py', '121.py', '121_P13.py', '121_P6.py', '121_P8.py', '121_all.py', '122.py', '122_P13.py', '122_P8.py', '122_all.py', '123.py', '123_P13.py', '123_P8.py', '123_all.py', '124.py', '124_P13.py', '124_P8.py', '124_all.py', '125.py', '125_P1.py', '125_P13.py', '125_P8.py', '125_all.py', '126.py', '126_P13.py', '126_P8.py', '126_all.py', '127.py', '127_P13.py', '127_P8.py', '127_all.py', '128.py', '128_P13.py', '128_P8.py', '128_all.py', '129.py', '129_P13.py', '129_P8.py', '129_all.py', '12_P13.py', '13.py', '130.py', '130_P13.py', '130_P8.py', '130_all.py', '131.py', '131_P13.py', '131_P6.py', '131_P8.py', '131_all.py', '132.py', '132_P13.py', '132_P8.py', '132_all.py', '133.py', '133_P13.py', '133_P8.py', '133_all.py', '134.py', '134_P13.py', '134_P8.py', '134_all.py', '135.py', '135_P13.py', '135_P8.py', '135_all.py', '136.py', '136_P1.py', '136_P13.py', '136_P8.py', '136_all.py', '137.py', '137_P13.py', '138.py', '138_P13.py', '138_P8.py', '138_all.py', '139.py', '139_P13.py', '139_P8.py', '139_all.py', '13_P13.py', '14.py', '140.py', '140_P13.py', '140_P8.py', '140_all.py', '141.py', '141_P1.py', '141_P13.py', '141_P8.py', '141_all.py', '142.py', '142_P13.py', '142_P8.py', '142_all.py', '143.py', '143_P13.py', '143_P8.py', '143_all.py', '144.py', '144_P13.py', '144_P8.py', '144_all.py', '145.py', '145_P13.py', '145_P8.py', '145_all.py', '146.py', '146_P13.py', '146_P8.py', '146_all.py', '147.py', '147_P13.py', '147_P8.py', '147_all.py', '148.py', '148_P1.py', '148_P13.py', '148_P8.py', '148_all.py', '149.py', '149_P13.py', '149_P8.py', '149_all.py', '14_P13.py', '14_P8.py', '14_all.py', '15.py', '150.py', '150_P13.py', '150_P8.py', '150_all.py', '151.py', '151_P13.py', '151_P8.py', '151_all.py', '152.py', '152_P13.py', '152_P8.py', '152_all.py', '153.py', '153_P13.py', '153_P8.py', '153_all.py', '154.py', '154_P13.py', '154_P8.py', '154_all.py', '155.py', '155_P13.py', '155_P8.py', '155_all.py', '156.py', '156_P13.py', '156_P8.py', '156_all.py', '157.py', '157_P13.py', '157_P8.py', '157_all.py', '158.py', '158_P13.py', '158_P8.py', '158_all.py', '159.py', '159_P1.py', '159_P13.py', '159_P8.py', '159_all.py', '15_P13.py', '16.py', '160.py', '160_P1.py', '160_P13.py', '160_P8.py', '160_all.py', '161.py', '161_P13.py', '161_P6.py', '161_P8.py', '161_all.py', '162.py', '162_P13.py', '162_P8.py', '162_all.py', '163.py', '163_P13.py', '163_P8.py', '163_all.py', '16_P13.py', '17.py', '17_P1.py', '17_P13.py', '17_P8.py', '17_all.py', '18.py', '18_P1.py', '18_P13.py', '18_all.py', '19.py', '19_P1.py', '19_P13.py', '19_P8.py', '19_all.py', '1_P13.py', '1_P8.py', '1_all.py', '2.py', '20.py', '20_P13.py', '21.py', '21_P13.py', '21_P8.py', '21_all.py', '22.py', '22_P13.py', '23.py', '23_P13.py', '24.py', '24_P13.py', '24_P8.py', '24_all.py', '25.py', '25_P1.py', '25_P13.py', '25_all.py', '26.py', '26_P13.py', '26_P8.py', '26_all.py', '27.py', '27_P13.py', '27_P8.py', '27_all.py', '28.py', '28_P13.py', '29.py', '29_P13.py', '29_all.py', '2_P13.py', '2_P8.py', '2_all.py', '3.py', '30.py', '30_P13.py', '30_P8.py', '30_all.py', '31.py', '31_P13.py', '31_P8.py', '31_all.py', '32.py', '32_P13.py', '32_P15.py', '32_P8.py', '32_all.py', '33.py', '33_P1.py', '33_P13.py', '33_P8.py', '33_all.py', '34.py', '34_P13.py', '34_P8.py', '34_all.py', '35.py', '35_P13.py', '35_P8.py', '35_all.py', '36.py', '36_P13.py', '36_P8.py', '36_all.py', '37.py', '37_P1.py', '37_P13.py', '37_P8.py', '37_all.py', '38.py', '38_P13.py', '38_P8.py', '38_all.py', '39.py', '39_P13.py', '39_P8.py', '39_all.py', '3_P1.py', '3_P13.py', '3_all.py', '4.py', '40.py', '40_P13.py', '40_P8.py', '40_all.py', '41.py', '41_P13.py', '41_P8.py', '41_all.py', '42.py', '42_P13.py', '42_P8.py', '42_all.py', '43.py', '43_P13.py', '43_P8.py', '43_all.py', '44.py', '44_P13.py', '44_P8.py', '44_all.py', '45.py', '45_P13.py', '45_P8.py', '45_all.py', '46.py', '46_P1.py', '46_P13.py', '46_P8.py', '46_all.py', '47.py', '47_P13.py', '47_P8.py', '47_all.py', '48.py', '48_P13.py', '48_P8.py', '48_all.py', '49.py', '49_P13.py', '49_P8.py', '49_all.py', '4_P13.py', '4_P8.py', '4_all.py', '5.py', '50.py', '50_P13.py', '50_P8.py', '50_all.py', '51.py', '51_P13.py', '51_P8.py', '51_all.py', '52.py', '52_P13.py', '52_P8.py', '52_all.py', '53.py', '53_P13.py', '53_P8.py', '53_all.py', '54.py', '54_P13.py', '54_P8.py', '54_all.py', '55.py', '55_P13.py', '55_P8.py', '55_all.py', '56.py', '56_P13.py', '56_P8.py', '56_all.py', '57.py', '57_P13.py', '57_P8.py', '57_all.py', '58.py', '58_P13.py', '58_P8.py', '58_all.py', '59.py', '59_P13.py', '59_P8.py', '59_all.py', '5_P1.py', '5_P13.py', '5_all.py', '6.py', '60.py', '60_P13.py', '60_P8.py', '60_all.py', '61.py', '61_P13.py', '61_P8.py', '61_all.py', '62.py', '62_P13.py', '62_P8.py', '62_all.py', '63.py', '63_P1.py', '63_P13.py', '63_P8.py', '63_all.py', '64.py', '64_P13.py', '64_P4.py', '64_P8.py', '64_all.py', '65.py', '65_P13.py', '65_P8.py', '65_all.py', '66.py', '66_P13.py', '66_P8.py', '66_all.py', '67.py', '67_P1.py', '67_P13.py', '67_P8.py', '67_all.py', '68.py', '68_P13.py', '68_P8.py', '68_all.py', '69.py', '69_P13.py', '69_P8.py', '69_all.py', '6_P13.py', '6_P8.py', '6_all.py', '7.py', '70.py', '70_P13.py', '70_P8.py', '70_all.py', '71.py', '71_P13.py', '71_P8.py', '71_all.py', '72.py', '72_P13.py', '72_P8.py', '72_all.py', '73.py', '73_P13.py', '73_P8.py', '73_all.py', '74.py', '74_P13.py', '74_P8.py', '74_all.py', '75.py', '75_P1.py', '75_P13.py', '75_P8.py', '75_all.py', '76.py', '76_P13.py', '76_P8.py', '76_all.py', '77.py', '77_P1.py', '77_P13.py', '77_P8.py', '77_all.py', '78.py', '78_P13.py', '78_P8.py', '78_all.py', '79.py', '79_P13.py', '79_P8.py', '79_all.py', '7_P13.py', '8.py', '80.py', '80_P13.py', '80_P8.py', '80_all.py', '81.py', '81_P13.py', '81_P8.py', '81_all.py', '82.py', '82_P13.py', '82_P8.py', '82_all.py', '83.py', '83_P13.py', '83_P8.py', '83_all.py', '84.py', '84_P13.py', '84_P6.py', '84_P8.py', '84_all.py', '85.py', '85_P1.py', '85_P13.py', '85_P8.py', '85_all.py', '86.py', '86_P13.py', '86_P8.py', '86_all.py', '87.py', '87_P1.py', '87_P13.py', '87_P8.py', '87_all.py', '88.py', '88_P13.py', '88_P8.py', '88_all.py', '89.py', '89_P13.py', '89_P8.py', '89_all.py', '8_P13.py', '9.py', '90.py', '90_P13.py', '90_P8.py', '90_all.py', '91.py', '91_P1.py', '91_P13.py', '91_P8.py', '91_all.py', '92.py', '92_P13.py', '92_P8.py', '92_all.py', '93.py', '93_P13.py', '93_P8.py', '93_all.py', '94.py', '94_P13.py', '94_P6.py', '94_P8.py', '94_all.py', '95.py', '95_P13.py', '95_P8.py', '95_all.py', '96.py', '96_P13.py', '96_P6.py', '96_P8.py', '96_all.py', '97.py', '97_P13.py', '97_P8.py', '97_all.py', '98.py', '98_P13.py', '98_P8.py', '98_all.py', '99.py', '99_P13.py', '99_P8.py', '99_all.py', '9_P13.py', '9_P8.py', '9_all.py']\n"
     ]
    }
   ],
   "source": [
    "file_list = [f for f in os.listdir(folder_path) if os.path.isfile(os.path.join(folder_path, f))]\n",
    "file_list.sort()\n",
    "print(file_list)"
   ]
  },
  {
   "cell_type": "code",
   "execution_count": 4,
   "metadata": {},
   "outputs": [],
   "source": [
    "data = []\n",
    "new_data = []\n",
    "for file in file_list:\n",
    "    with open(folder_path +'/'+ file) as f:\n",
    "        id = file.split('.')[0]\n",
    "        prompt = f.read().strip()\n",
    "        data.append({\n",
    "            'id': id,\n",
    "            'prompt': prompt\n",
    "        })\n",
    "        if '_all' in id or '_P13' in id:\n",
    "            new_data.append({\n",
    "                'id': id,\n",
    "                'prompt': prompt\n",
    "            })\n"
   ]
  },
  {
   "cell_type": "code",
   "execution_count": 5,
   "metadata": {},
   "outputs": [],
   "source": [
    "with open(f'{folder_path}.jsonl', 'w') as f:\n",
    "    for d in data:\n",
    "        json.dump(d, f)\n",
    "        f.write('\\n')"
   ]
  },
  {
   "cell_type": "code",
   "execution_count": 6,
   "metadata": {},
   "outputs": [],
   "source": [
    "with open(f'{folder_path}_new.jsonl', 'w') as f:\n",
    "    for d in new_data:\n",
    "        json.dump(d, f)\n",
    "        f.write('\\n')"
   ]
  },
  {
   "cell_type": "code",
   "execution_count": null,
   "metadata": {},
   "outputs": [],
   "source": []
  }
 ],
 "metadata": {
  "kernelspec": {
   "display_name": "Python 3",
   "language": "python",
   "name": "python3"
  },
  "language_info": {
   "codemirror_mode": {
    "name": "ipython",
    "version": 3
   },
   "file_extension": ".py",
   "mimetype": "text/x-python",
   "name": "python",
   "nbconvert_exporter": "python",
   "pygments_lexer": "ipython3",
   "version": "3.9.4"
  }
 },
 "nbformat": 4,
 "nbformat_minor": 2
}
