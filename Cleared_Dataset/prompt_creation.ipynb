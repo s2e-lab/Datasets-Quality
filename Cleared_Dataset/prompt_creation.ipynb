{
 "cells": [
  {
   "cell_type": "code",
   "execution_count": 11,
   "metadata": {},
   "outputs": [],
   "source": [
    "import os\n",
    "import json"
   ]
  },
  {
   "cell_type": "code",
   "execution_count": 12,
   "metadata": {},
   "outputs": [],
   "source": [
    "folder_path = './HumanEval_Java'"
   ]
  },
  {
   "cell_type": "code",
   "execution_count": 13,
   "metadata": {},
   "outputs": [
    {
     "name": "stdout",
     "output_type": "stream",
     "text": [
      "['0.java', '0_P13.java', '1.java', '10.java', '100.java', '100_P13.java', '100_P8.java', '100_all.java', '101.java', '101_P13.java', '101_P8.java', '101_all.java', '102.java', '102_P13.java', '103.java', '103_P13.java', '103_P8,java.java', '103_all.java', '104.java', '104_P13.java', '104_P8.java', '104_all.java', '105.java', '105_P13.java', '105_P6.java', '105_P8.java', '105_all.java', '106.java', '106_P13.java', '106_P6.java', '106_P8.java', '106_all.java', '107.java', '107_P13.java', '107_P8.java', '107_all.java', '108.java', '108_P13.java', '108_P8.java', '108_all.java', '109.java', '109_P1.java', '109_P13.java', '109_P8.java', '109_all.java', '10_P13.java', '11.java', '110.java', '110_P13.java', '111.java', '111_P13.java', '112.java', '112_P1.java', '112_P13.java', '112_all.java', '113.java', '113_P13.java', '114.java', '114_P13.java', '114_P8.java', '114_all.java', '115.java', '115_P13.java', '116.java', '116_P13.java', '116_P8.java', '116_all.java', '117.java', '117_P13.java', '117_P8.java', '117_all.java', '118.java', '118_P13.java', '119.java', '119_P13.java', '11_P13.java', '11_P8.java', '11_all.java', '12.java', '120.java', '120_P13.java', '120_P8.java', '120_all.java', '121.java', '121_P13.java', '122.java', '122_P13.java', '123.java', '123_P13.java', '123_P8.java', '123_all.java', '124.java', '124_P13.java', '125.java', '125_P13.java', '126.java', '126_P13.java', '126_P8.java', '126_all.java', '127.java', '127_P13.java', '127_P8.java', '127_all.java', '128.java', '128_P13.java', '128_P8.java', '128_all.java', '129.java', '129_P13.java', '12_P13.java', '12_P8.java', '12_all.java', '13.java', '130.java', '130_P13.java', '130_P8.java', '130_all.java', '131.java', '131_P13.java', '132.java', '132_P13.java', '133.java', '133_P13.java', '134.java', '134_P13.java', '135.java', '135_P13.java', '135_P8.java', '135_all.java', '136.java', '136_P1.java', '136_P13.java', '136_P8.java', '136_all.java', '137.java', '137_P13.java', '138.java', '138_P13.java', '139.java', '139_P13.java', '139_P8.java', '139_all.java', '13_P13.java', '14.java', '140.java', '140_P13.java', '141.java', '141_P1.java', '141_P13.java', '141_all.java', '142.java', '142_P13.java', '142_P8.java', '142_all.java', '143.java', '143_P13.java', '144.java', '144_P13.java', '145.java', '145_P13.java', '145_P8.java', '145_all.java', '146.java', '146_P13.java', '146_P8.java', '146_all.java', '147.java', '147_P13.java', '148.java', '148_P1.java', '148_P13.java', '148_P8.java', '148_all.java', '149.java', '149_P13.java', '149_P8.java', '149_all.java', '14_P13.java', '14_P8.java', '14_all.java', '15.java', '150.java', '150_P13.java', '151.java', '151_P13.java', '151_P8.java', '151_all.java', '152.java', '152_P13.java', '153.java', '153_P13.java', '154.java', '154_P13.java', '155.java', '155_P13.java', '156.java', '156_P13.java', '157.java', '157_P13.java', '158.java', '158_P13.java', '159.java', '159_P13.java', '15_P13.java', '16.java', '160.java', '160_P1.java', '160_P13.java', '160_P8.java', '160_all.java', '161.java', '161_P13.java', '161_P6.java', '161_all.java', '162.java', '162_P13.java', '162_P8.java', '162_all.java', '163.java', '163_P13.java', '163_P8.java', '163_all.java', '16_P13.java', '17.java', '17_P1.java', '17_P13.java', '17_P8.java', '17_all.java', '18.java', '18_P1.java', '18_P13.java', '18_all.java', '19.java', '19_P1.java', '19_P13.java', '19_P8.java', '19_all.java', '1_P13.java', '1_P8.java', '1_all.java', '2.java', '20.java', '20_P13.java', '21.java', '21_P13.java', '21_P8.java', '21_all.java', '22.java', '22_P13.java', '22_P8.java', '22_all.java', '23.java', '23_P13.java', '24.java', '24_P13.java', '24_P8.java', '24_all.java', '25.java', '25_P1.java', '25_P13.java', '25_all.java', '26.java', '26_P13.java', '26_P8.java', '26_all.java', '27.java', '27_P13.java', '27_P8.java', '27_all.java', '28.java', '28_P13.java', '28_P8.java', '28_all.java', '29.java', '29_P13.java', '29_P8.java', '29_all.java', '2_P13.java', '2_P8.java', '2_all.java', '3.java', '30.java', '30_P13.java', '30_P8.java', '30_all.java', '31.java', '31_P13.java', '33.java', '33_P1.java', '33_P13.java', '33_all.java', '34.java', '34_P13.java', '34_P8.java', '34_all.java', '35.java', '35_P13.java', '36.java', '36_P13.java', '37.java', '37_P1.java', '37_P13.java', '37_all.java', '39.java', '39_P13.java', '3_P1.java', '3_P13.java', '3_P8.java', '3_all.java', '4.java', '40.java', '40_P13.java', '41.java', '41_P13.java', '42.java', '42_P13.java', '42_P8.java', '42_all.java', '43.java', '43_P13.java', '44.java', '44_P13.java', '45.java', '45_P1.java', '45_P13.java', '45_P8.java', '45_all.java', '46.java', '46_P1.java', '46_P13.java', '46_all.java', '47.java', '47_P13.java', '48.java', '48_P13.java', '49.java', '49_P13.java', '4_P13.java', '4_P8.java', '4_all.java', '5.java', '51.java', '51_P13.java', '52.java', '52_P13.java', '53.java', '53_P13.java', '54.java', '54_P13.java', '55.java', '55_P13.java', '56.java', '56_P13.java', '57.java', '57_P1.java', '57_P13.java', '57_all.java', '58.java', '58_P13.java', '58_P8.java', '58_all.java', '59.java', '59_P13.java', '5_P13.java', '5_P8.java', '5_all.java', '6.java', '60.java', '60_P13.java', '61.java', '61_P13.java', '62.java', '62_P13.java', '62_P8.java', '62_all.java', '63.java', '63_P1.java', '63_P13.java', '63_all.java', '64.java', '64_P13.java', '65.java', '65_P13.java', '66.java', '66_P13.java', '67.java', '67_P1.java', '67_P13.java', '67_all.java', '68.java', '68_P13.java', '69.java', '69_P13.java', '69_P6.java', '69_all.java', '6_P13.java', '6_P8.java', '6_all.java', '7.java', '70.java', '70_P13.java', '70_P8.java', '70_all.java', '71.java', '71_P13.java', '72.java', '72_P13.java', '73.java', '73_P13.java', '74.java', '74_P13.java', '74_P8.java', '74_all.java', '75.java', '75_P1.java', '75_P13.java', '75_P8.java', '75_all.java', '76.java', '76_P13.java', '77.java', '77_P1.java', '77_P13.java', '77_all.java', '78.java', '78_P13.java', '78_P8.java', '78_all.java', '79.java', '79_P13.java', '7_P13.java', '7_P8.java', '7_all.java', '8.java', '80.java', '80_P13.java', '81.java', '81_P13.java', '81_P8.java', '81_all.java', '82.java', '82_P13.java', '83.java', '83_P13.java', '83_P8.java', '83_all.java', '84.java', '84_P13.java', '84_P6.java', '84_all.java', '85.java', '85_P13.java', '85_P8.java', '85_all.java', '86.java', '86_P13.java', '87.java', '87_P1.java', '87_P13.java', '87_P15.java', '87_P8.java', '87_all.java', '88.java', '88_P13.java', '89.java', '89_P13.java', '8_P13.java', '8_P8.java', '8_all.java', '9.java', '90.java', '90_P13.java', '90_P16.java', '90_P8.java', '90_all.java', '91.java', '91_P13.java', '92.java', '92_P13.java', '93.java', '93_P13.java', '94.java', '94_P13.java', '94_P6.java', '94_all.java', '95.java', '95_P13.java', '96.java', '96_P1.java', '96_P13.java', '96_P8.java', '96_all.java', '97.java', '97_P13.java', '98.java', '98_P13.java', '99.java', '99_P13.java', '9_P13.java', '9_P8.java', '9_all.java']\n"
     ]
    }
   ],
   "source": [
    "file_list = [f for f in os.listdir(folder_path) if os.path.isfile(os.path.join(folder_path, f))]\n",
    "file_list.sort()\n",
    "print(file_list)"
   ]
  },
  {
   "cell_type": "code",
   "execution_count": 14,
   "metadata": {},
   "outputs": [],
   "source": [
    "data = []\n",
    "for file in file_list:\n",
    "    with open(folder_path +'/'+ file) as f:\n",
    "        data.append({\n",
    "            'id': file.split('.')[0],\n",
    "            'prompt': f.read().strip()\n",
    "        })"
   ]
  },
  {
   "cell_type": "code",
   "execution_count": 15,
   "metadata": {},
   "outputs": [],
   "source": [
    "with open(f'{folder_path}.jsonl', 'w') as f:\n",
    "    for d in data:\n",
    "        json.dump(d, f)\n",
    "        f.write('\\n')"
   ]
  },
  {
   "cell_type": "code",
   "execution_count": null,
   "metadata": {},
   "outputs": [],
   "source": []
  }
 ],
 "metadata": {
  "kernelspec": {
   "display_name": "Python 3",
   "language": "python",
   "name": "python3"
  },
  "language_info": {
   "codemirror_mode": {
    "name": "ipython",
    "version": 3
   },
   "file_extension": ".py",
   "mimetype": "text/x-python",
   "name": "python",
   "nbconvert_exporter": "python",
   "pygments_lexer": "ipython3",
   "version": "3.9.4"
  }
 },
 "nbformat": 4,
 "nbformat_minor": 2
}
