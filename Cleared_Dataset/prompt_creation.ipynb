{
 "cells": [
  {
   "cell_type": "code",
   "execution_count": 53,
   "metadata": {},
   "outputs": [],
   "source": [
    "import os\n",
    "import json"
   ]
  },
  {
   "cell_type": "code",
   "execution_count": 54,
   "metadata": {},
   "outputs": [],
   "source": [
    "folder_path = './HumanEval_Py'"
   ]
  },
  {
   "cell_type": "code",
   "execution_count": 55,
   "metadata": {},
   "outputs": [
    {
     "name": "stdout",
     "output_type": "stream",
     "text": [
      "['0.py', '1.py', '10.py', '100.py', '100_P8.py', '101.py', '101_P8.py', '102.py', '102_P8.py', '103.py', '103_P8.py', '104.py', '104_P1.py', '104_P8.py', '104_all.py', '105.py', '105_P8.py', '106.py', '106_P6.py', '106_P8.py', '106_all.py', '107.py', '107_P8.py', '108.py', '108_P8.py', '109.py', '109_P1.py', '109_P8.py', '109_all.py', '10_P8.py', '11.py', '110.py', '110_P8.py', '111.py', '111_P8.py', '112.py', '112_P1.py', '112_P8.py', '112_all.py', '113.py', '113_P8.py', '114.py', '114_P1.py', '114_P8.py', '114_all.py', '115.py', '115_P8.py', '116.py', '116_P1.py', '116_P8.py', '116_all.py', '117.py', '117_P8.py', '118.py', '118_P8.py', '119.py', '119_P8.py', '11_P8.py', '12.py', '120.py', '120_P8.py', '121.py', '121_P6.py', '121_P8.py', '121_all.py', '122.py', '122_P8.py', '123.py', '123_P8.py', '124.py', '124_P8.py', '125.py', '125_P1.py', '125_P8.py', '125_all.py', '126.py', '126_P8.py', '127.py', '127_P8.py', '128.py', '128_P8.py', '129.py', '129_P8.py', '13.py', '130.py', '130_P8.py', '131.py', '131_P6.py', '131_P8.py', '131_all.py', '132.py', '132_P8.py', '133.py', '133_P8.py', '134.py', '134_P8.py', '135.py', '135_P8.py', '136.py', '136_P1.py', '136_P8.py', '136_all.py', '137.py', '138.py', '138_P8.py', '139.py', '139_P8.py', '14.py', '140.py', '140_P8.py', '141.py', '141_P1.py', '141_P8.py', '141_all.py', '142.py', '142_P8.py', '143.py', '143_P8.py', '144.py', '144_P8.py', '145.py', '145_P8.py', '146.py', '146_P8.py', '147.py', '147_P8.py', '148.py', '148_P1.py', '148_P8.py', '148_all.py', '149.py', '149_P8.py', '14_P8.py', '15.py', '150.py', '150_P8.py', '151.py', '151_P8.py', '152.py', '152_P8.py', '153.py', '153_P8.py', '154.py', '154_P8.py', '155.py', '155_P8.py', '156.py', '156_P8.py', '157.py', '157_P8.py', '158.py', '158_P8.py', '159.py', '159_P1.py', '159_P8.py', '159_all.py', '16.py', '160.py', '160_P1.py', '160_P8.py', '160_all.py', '161.py', '161_P6.py', '161_P8.py', '161_all.py', '162.py', '162_P8.py', '163.py', '163_P8.py', '17.py', '17_P1.py', '17_P8.py', '17_all.py', '18.py', '18_P1.py', '19.py', '19_P1.py', '19_P8.py', '19_all.py', '1_P8.py', '2.py', '20.py', '21.py', '21_P8.py', '22.py', '23.py', '24.py', '24_P8.py', '25.py', '25_P1.py', '26.py', '26_P8.py', '27.py', '27_P8.py', '28.py', '29.py', '2_P8.py', '3.py', '30.py', '30_P8.py', '31.py', '31_P8.py', '32.py', '32_P15.py', '32_P8.py', '32_all.py', '33.py', '33_P1.py', '33_P8.py', '33_all.py', '34.py', '34_P8.py', '35.py', '35_P8.py', '36.py', '36_P8.py', '37.py', '37_P1.py', '37_P8.py', '37_all.py', '38.py', '38_P8.py', '39.py', '39_P8.py', '3_P1.py', '4.py', '40.py', '40_P8.py', '41.py', '41_P8.py', '42.py', '42_P8.py', '43.py', '43_P8.py', '44.py', '44_P8.py', '45.py', '45_P8.py', '46.py', '46_P1.py', '46_P8.py', '46_all.py', '47.py', '47_P8.py', '48.py', '48_P8.py', '49.py', '49_P8.py', '4_P8.py', '5.py', '50.py', '50_P8.py', '51.py', '51_P8.py', '52.py', '52_P8.py', '53.py', '53_P8.py', '54.py', '54_P8.py', '55.py', '55_P8.py', '56.py', '56_P8.py', '57.py', '57_P8.py', '58.py', '58_P8.py', '59.py', '59_P8.py', '5_P1.py', '6.py', '60.py', '60_P8.py', '61.py', '61_P8.py', '62.py', '62_P8.py', '63.py', '63_P1.py', '63_P8.py', '63_all.py', '64.py', '64_P4.py', '64_P8.py', '64_all.py', '65.py', '65_P8.py', '66.py', '66_P8.py', '67.py', '67_P1.py', '67_P8.py', '67_all.py', '68.py', '68_P8.py', '69.py', '69_P8.py', '6_P8.py', '7.py', '70.py', '70_P8.py', '71.py', '71_P8.py', '72.py', '72_P8.py', '73.py', '73_P8.py', '74.py', '74_P8.py', '75.py', '75_P1.py', '75_P8.py', '75_all.py', '76.py', '76_P8.py', '77.py', '77_P1.py', '77_P8.py', '77_all.py', '78.py', '78_P8.py', '79.py', '79_P8.py', '8.py', '80.py', '80_P8.py', '81.py', '81_P8.py', '82.py', '82_P8.py', '83.py', '83_P8.py', '84.py', '84_P6.py', '84_P8.py', '84_all.py', '85.py', '85_P1.py', '85_P8.py', '85_all.py', '86.py', '86_P8.py', '87.py', '87_P1.py', '87_P8.py', '87_all.py', '88.py', '88_P8.py', '89.py', '89_P8.py', '9.py', '90.py', '90_P8.py', '91.py', '91_P1.py', '91_P8.py', '91_all.py', '92.py', '92_P8.py', '93.py', '93_P8.py', '94.py', '94_P6.py', '94_P8.py', '94_all.py', '95.py', '95_P8.py', '96.py', '96_P6.py', '96_P8.py', '96_all.py', '97.py', '97_P8.py', '98.py', '98_P8.py', '99.py', '99_P8.py', '9_P8.py']\n"
     ]
    }
   ],
   "source": [
    "file_list = [f for f in os.listdir(folder_path) if os.path.isfile(os.path.join(folder_path, f))]\n",
    "file_list.sort()\n",
    "print(file_list)"
   ]
  },
  {
   "cell_type": "code",
   "execution_count": 56,
   "metadata": {},
   "outputs": [],
   "source": [
    "data = []\n",
    "for file in file_list:\n",
    "    with open(folder_path +'/'+ file) as f:\n",
    "        data.append({\n",
    "            'id': file.split('.')[0],\n",
    "            'prompt': f.read().strip()\n",
    "        })"
   ]
  },
  {
   "cell_type": "code",
   "execution_count": 57,
   "metadata": {},
   "outputs": [],
   "source": [
    "with open(f'{folder_path}.jsonl', 'w') as f:\n",
    "    for d in data:\n",
    "        json.dump(d, f)\n",
    "        f.write('\\n')"
   ]
  },
  {
   "cell_type": "code",
   "execution_count": null,
   "metadata": {},
   "outputs": [],
   "source": []
  }
 ],
 "metadata": {
  "kernelspec": {
   "display_name": "Python 3",
   "language": "python",
   "name": "python3"
  },
  "language_info": {
   "codemirror_mode": {
    "name": "ipython",
    "version": 3
   },
   "file_extension": ".py",
   "mimetype": "text/x-python",
   "name": "python",
   "nbconvert_exporter": "python",
   "pygments_lexer": "ipython3",
   "version": "3.9.4"
  }
 },
 "nbformat": 4,
 "nbformat_minor": 2
}
