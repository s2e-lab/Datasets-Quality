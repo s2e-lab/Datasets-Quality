{
 "cells": [
  {
   "cell_type": "code",
   "execution_count": 1,
   "metadata": {},
   "outputs": [],
   "source": [
    "import json"
   ]
  },
  {
   "cell_type": "code",
   "execution_count": 4,
   "metadata": {},
   "outputs": [],
   "source": [
    "# with open(\"./HumanEval/HumanEval.jsonl\") as f:\n",
    "#     data = f.readlines()\n",
    "#     data = [json.loads(line) for line in data]\n",
    "#     for item in data:\n",
    "#         file_name = item['task_id'].split('/')[-1]\n",
    "#         with open('./HumanEval/Files/' + file_name + '.py', 'w') as f:\n",
    "#             f.write(item['prompt'])\n",
    "            "
   ]
  },
  {
   "cell_type": "code",
   "execution_count": 16,
   "metadata": {},
   "outputs": [],
   "source": [
    "with open(\"./HumanEval/HumanEval.jsonl\") as f:\n",
    "\n",
    "    data = f.readlines()\n",
    "    data = [json.loads(line) for line in data]\n",
    "    for i in range(len(data)):\n",
    "        item = data[i]\n",
    "        file_name = item['task_id'].split('/')[-1]\n",
    "        with open('./HumanEval/Files/' + file_name + '.py', 'r') as f:\n",
    "            data[i]['canonical_solution'] = f.read()\n",
    "            prompt = \"\\\"\\\"\\\"\".join(data[i]['prompt'].split(\"\\\"\\\"\\\"\")[:-1])\n",
    "            data[i]['prompt'] = prompt+ \"\\\"\\\"\\\"\"\n"
   ]
  },
  {
   "cell_type": "code",
   "execution_count": 20,
   "metadata": {},
   "outputs": [],
   "source": [
    "with open(\"./HumanEval/HumanEval_Clear.jsonl\", 'w') as f:\n",
    "    for item in data:\n",
    "        f.write(json.dumps(item) + '\\n')"
   ]
  }
 ],
 "metadata": {
  "kernelspec": {
   "display_name": "Python 3",
   "language": "python",
   "name": "python3"
  },
  "language_info": {
   "codemirror_mode": {
    "name": "ipython",
    "version": 3
   },
   "file_extension": ".py",
   "mimetype": "text/x-python",
   "name": "python",
   "nbconvert_exporter": "python",
   "pygments_lexer": "ipython3",
   "version": "3.9.4"
  },
  "orig_nbformat": 4
 },
 "nbformat": 4,
 "nbformat_minor": 2
}
