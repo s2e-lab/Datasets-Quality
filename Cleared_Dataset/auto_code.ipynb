{
 "cells": [
  {
   "cell_type": "code",
   "execution_count": 1,
   "metadata": {},
   "outputs": [],
   "source": [
    "import os"
   ]
  },
  {
   "cell_type": "code",
   "execution_count": 4,
   "metadata": {},
   "outputs": [],
   "source": [
    "for i in range(164):\n",
    "    content = open(f\"./HumanEval_Py/{i}.py\", \"r\").read()\n",
    "    with open(f\"./HumanEval_Py/{i}_P13.py\", \"w\") as f:\n",
    "        f.write(content)\n",
    "\n",
    "    if not os.path.exists(f\"./HumanEval_Py/{i}_all.py\"):\n",
    "        with open(f\"./HumanEval_Py/{i}_all.py\", \"w\") as f:\n",
    "            f.write(content)"
   ]
  },
  {
   "cell_type": "code",
   "execution_count": null,
   "metadata": {},
   "outputs": [],
   "source": []
  }
 ],
 "metadata": {
  "kernelspec": {
   "display_name": "Python 3",
   "language": "python",
   "name": "python3"
  },
  "language_info": {
   "codemirror_mode": {
    "name": "ipython",
    "version": 3
   },
   "file_extension": ".py",
   "mimetype": "text/x-python",
   "name": "python",
   "nbconvert_exporter": "python",
   "pygments_lexer": "ipython3",
   "version": "3.9.4"
  }
 },
 "nbformat": 4,
 "nbformat_minor": 2
}
