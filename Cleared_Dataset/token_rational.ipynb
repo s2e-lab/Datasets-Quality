{
 "cells": [
  {
   "cell_type": "code",
   "execution_count": 4,
   "metadata": {},
   "outputs": [],
   "source": [
    "import tiktoken\n",
    "import json"
   ]
  },
  {
   "cell_type": "code",
   "execution_count": 2,
   "metadata": {},
   "outputs": [],
   "source": [
    "encoding = tiktoken.get_encoding(\"cl100k_base\")"
   ]
  },
  {
   "cell_type": "code",
   "execution_count": 3,
   "metadata": {},
   "outputs": [],
   "source": [
    "def num_tokens_from_string(string: str, encoding_name: str) -> int:\n",
    "    \"\"\"Returns the number of tokens in a text string.\"\"\"\n",
    "    encoding = tiktoken.get_encoding(encoding_name)\n",
    "    num_tokens = len(encoding.encode(string))\n",
    "    return num_tokens"
   ]
  },
  {
   "cell_type": "code",
   "execution_count": 6,
   "metadata": {},
   "outputs": [
    {
     "name": "stdout",
     "output_type": "stream",
     "text": [
      "[50, 87, 9, 32, 27, 42, 83, 13, 40, 54, 52, 46, 39, 19, 25, 18, 7, 41, 45, 103, 108, 35, 14, 5, 21, 71, 27, 6, 6, 13, 14, 41, 104, 23, 7, 28, 70, 70, 11, 113, 59, 6, 13, 43, 31, 11, 74, 60, 32, 28, 32, 32, 20, 6, 11, 39, 51, 24, 41, 92, 9, 51, 17, 61, 60, 40, 29, 33, 51, 67, 41, 79, 57, 44, 65, 104, 47, 25, 56, 15, 67, 240, 49, 25, 16, 29, 20, 57, 33, 51, 22, 36, 51, 60, 99, 142, 62, 15, 39, 108, 14, 55, 43, 50, 46, 112, 85, 108, 85, 79, 73, 78, 28, 69, 82, 16, 19, 78, 100, 109, 25, 26, 20, 88, 146, 53, 81, 115, 50, 166, 95, 71, 120, 29, 36, 39, 51, 75, 14, 44, 149, 118, 68, 92, 60, 72, 81, 88, 132, 40, 44, 29, 16, 130, 58, 55, 151, 29, 19, 31, 40, 92, 21, 47]\n"
     ]
    }
   ],
   "source": [
    "with open('./HumanEval_Py_original.jsonl') as f:\n",
    "    data = [json.loads(line) for line in f]\n",
    "\n",
    "tokens = []\n",
    "\n",
    "\n",
    "for i in range(len(data)):\n",
    "    tokens.append(num_tokens_from_string(data[i]['canonical_solution'], 'cl100k_base'))\n",
    "\n",
    "print(tokens)"
   ]
  },
  {
   "cell_type": "code",
   "execution_count": 7,
   "metadata": {},
   "outputs": [
    {
     "name": "stdout",
     "output_type": "stream",
     "text": [
      "53.84756097560975\n",
      "37.85878679981173\n",
      "25.75\n",
      "45.5\n",
      "73.25\n",
      "240\n",
      "5\n"
     ]
    }
   ],
   "source": [
    "import numpy as np\n",
    "\n",
    "print(np.mean(tokens))\n",
    "print(np.std(tokens))\n",
    "print(np.quantile(tokens, 0.25))\n",
    "print(np.quantile(tokens, 0.5))\n",
    "print(np.quantile(tokens, 0.75))\n",
    "print(np.max(tokens))\n",
    "print(np.min(tokens))\n"
   ]
  },
  {
   "cell_type": "code",
   "execution_count": null,
   "metadata": {},
   "outputs": [],
   "source": []
  }
 ],
 "metadata": {
  "kernelspec": {
   "display_name": "Python 3",
   "language": "python",
   "name": "python3"
  },
  "language_info": {
   "codemirror_mode": {
    "name": "ipython",
    "version": 3
   },
   "file_extension": ".py",
   "mimetype": "text/x-python",
   "name": "python",
   "nbconvert_exporter": "python",
   "pygments_lexer": "ipython3",
   "version": "3.9.4"
  }
 },
 "nbformat": 4,
 "nbformat_minor": 2
}
